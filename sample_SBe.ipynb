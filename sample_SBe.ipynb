{
 "cells": [
  {
   "cell_type": "markdown",
   "metadata": {},
   "source": [
    "## Sampling Average Surface Brightness within Effective Radii\n",
    "\n",
    "### October 2022\n",
    "\n",
    "Using surface brightness profile results."
   ]
  },
  {
   "cell_type": "code",
   "execution_count": 67,
   "metadata": {},
   "outputs": [],
   "source": [
    "# math, array manipulation, etc.\n",
    "import numpy as np\n",
    "\n",
    "import os\n",
    "import sys\n",
    "\n",
    "# timing\n",
    "from timeit import default_timer\n",
    "from tqdm import tqdm\n",
    "\n",
    "import pandas as pd\n",
    "\n",
    "import astropy.io.fits as fits\n",
    "from astropy.table import Table                    # Table data structure\n",
    "import astropy.units as u\n",
    "\n",
    "# necessary utilities from scipy, astropy and photutils\n",
    "from scipy.optimize import differential_evolution\n",
    "from scipy.ndimage import maximum_filter, gaussian_filter\n",
    "from astropy.modeling import functional_models\n",
    "from astropy.convolution import convolve, Gaussian2DKernel\n",
    "from astropy.stats import gaussian_fwhm_to_sigma, SigmaClip\n",
    "from photutils.background import Background2D, StdBackgroundRMS\n",
    "from photutils.segmentation import deblend_sources, SegmentationImage, detect_sources\n",
    "\n",
    "from scipy.stats import gaussian_kde\n",
    "\n",
    "# plots\n",
    "import matplotlib.pyplot as plt\n",
    "\n",
    "#%matplotlib inline\n",
    "\n",
    "# astronomical image fitting software Imfit, wrapped in Python\n",
    "# https://github.com/perwin/pyimfit\n",
    "# https://pyimfit.readthedocs.io/en/latest/\n",
    "import pyimfit\n",
    "\n",
    "# SEP\n",
    "import sep\n",
    "\n",
    "project_path = '/Users/aidan/Desktop/sl_project/'\n",
    "sys.path.append(project_path + 'galaxy-galaxy-sel/')\n",
    "\n",
    "from lensphoto import LensPhoto, fwhm2sigma\n",
    "\n",
    "fwhm_r = 0.95\n",
    "fwhm_g = 1.11\n",
    "\n",
    "std_psf_r = fwhm2sigma(fwhm_r)\n",
    "std_psf_g = fwhm2sigma(fwhm_g)\n",
    "\n",
    "from aidan_utils import plot_prettier\n",
    "\n",
    "plot_prettier()\n"
   ]
  },
  {
   "cell_type": "code",
   "execution_count": 8,
   "metadata": {},
   "outputs": [],
   "source": [
    "results_path = project_path + 'production/'\n",
    "\n",
    "# read lens results as pandas dataframe\n",
    "lens_results = pd.read_csv(results_path + 'lens_results.csv')\n",
    "\n",
    "rband_imgs = fits.open(results_path + 'lens_images_r.fits')\n",
    "gband_imgs = fits.open(results_path + 'lens_images_g.fits')\n"
   ]
  },
  {
   "cell_type": "code",
   "execution_count": 151,
   "metadata": {},
   "outputs": [
    {
     "name": "stderr",
     "output_type": "stream",
     "text": [
      "/Users/aidan/Desktop/sl_project/galaxy-galaxy-sel/lensphoto.py:215: RuntimeWarning: invalid value encountered in sqrt\n",
      "  std_gal = np.sqrt(num * img_gal)\n",
      "/Users/aidan/Desktop/sl_project/galaxy-galaxy-sel/lensphoto.py:215: RuntimeWarning: invalid value encountered in sqrt\n",
      "  std_gal = np.sqrt(num * img_gal)\n",
      "WARNING: AstropyDeprecationWarning: \"kernel\" was deprecated in version 1.5 and will be removed in a future version. Instead, if filtering is desired, please input a convolved image directly into the \"data\" parameter. [lensphoto]\n"
     ]
    },
    {
     "data": {
      "application/vnd.jupyter.widget-view+json": {
       "model_id": "4bece4fda824442d9cb70dc3a22d6cf8",
       "version_major": 2,
       "version_minor": 0
      },
      "text/plain": [
       "  0%|          | 0/7 [00:00<?, ?it/s]"
      ]
     },
     "metadata": {},
     "output_type": "display_data"
    },
    {
     "name": "stderr",
     "output_type": "stream",
     "text": [
      "WARNING: AstropyDeprecationWarning: \"kernel\" was deprecated in version 1.5 and will be removed in a future version. Instead, if filtering is desired, please input a convolved image directly into the \"data\" parameter. [lensphoto]\n"
     ]
    },
    {
     "data": {
      "application/vnd.jupyter.widget-view+json": {
       "model_id": "98992e1b40794e618d2c30f180161e76",
       "version_major": 2,
       "version_minor": 0
      },
      "text/plain": [
       "  0%|          | 0/10 [00:00<?, ?it/s]"
      ]
     },
     "metadata": {},
     "output_type": "display_data"
    }
   ],
   "source": [
    "# define params that we need\n",
    "params = ['halflightrad_r', 'sersicindex_r'\n",
    "          , 'halflightrad_g', 'sersicindex_g'\n",
    "          , 'ellipticity', 'positionangle']\n",
    "\n",
    "index = 0\n",
    "\n",
    "img_r = rband_imgs[index].data\n",
    "img_g = gband_imgs[index].data\n",
    "\n",
    "photo = LensPhoto(img_r = img_r, img_g = img_g\n",
    "                  , std_psf_r = std_psf_r, std_psf_g = std_psf_g\n",
    "                  , desid = '0'\n",
    "                 )\n"
   ]
  },
  {
   "cell_type": "code",
   "execution_count": 152,
   "metadata": {},
   "outputs": [
    {
     "name": "stdout",
     "output_type": "stream",
     "text": [
      "4.692764991554007\n",
      "0.3116583889155349 0.36654910392975637\n",
      "1.3764772122065112\n",
      "0.13824761791974205 0.12155884822778695\n",
      "6.093812238964468\n",
      "0.5768489268290473 0.5751657403987824\n",
      "0.7576356480886506\n",
      "0.1353515201587363 0.17003387851714857\n",
      "0.2743242572275551\n",
      "0.04321049340888919 0.04832227701998992\n",
      "2.996398494261796\n",
      "2.0205743293490985 2.875441571199574\n"
     ]
    }
   ],
   "source": [
    "means   = np.zeros(len(params))\n",
    "spreads = np.zeros(len(params))\n",
    "\n",
    "for i, p in enumerate(params):\n",
    "    \n",
    "    p16 = lens_results[p + '_16'][index]\n",
    "    p50 = lens_results[p + '_50'][index]\n",
    "    p84 = lens_results[p + '_84'][index]\n",
    "    \n",
    "    minus1 = p50 - p16\n",
    "    plus1  = p84 - p50\n",
    "    print(p50)\n",
    "    print(minus1, plus1)\n",
    "    \n",
    "    s = np.sqrt(minus1**2 + plus1**2)\n",
    "    \n",
    "    means[i] = p50\n",
    "    spreads[i] = s\n"
   ]
  },
  {
   "cell_type": "code",
   "execution_count": 158,
   "metadata": {},
   "outputs": [],
   "source": [
    "def generate_samples(ind):\n",
    "    \n",
    "    mean = means[ind]\n",
    "    spread = spreads[ind]\n",
    "    \n",
    "    sample = np.random.normal(loc=mean, scale=spread, size=1000)\n",
    "    \n",
    "    if np.min(sample) < 0:\n",
    "        sample = np.abs(sample)\n",
    "    \n",
    "    return sample\n",
    "\n",
    "rrsample = generate_samples(0)\n",
    "nrsample = generate_samples(1)\n",
    "rgsample = generate_samples(2)\n",
    "ngsample = generate_samples(3)\n",
    "esample = generate_samples(4)\n",
    "thsample = generate_samples(5)\n",
    "\n",
    "# I need to find a way to use my magnitudes (converted into flux) to extract a surface brightness I_e\n",
    "\n",
    "# maybe perform the exact same flux measurement (kron_rad * 15) and divide mag2flux value by that flux;\n",
    "# that should give surface brightness I_e at R_e\n",
    "\n",
    "# then I can perform the flux measurement through circular aperture R_e, divide by solid angle within that\n",
    "# circle, and that's <I_e>!\n"
   ]
  },
  {
   "cell_type": "code",
   "execution_count": null,
   "metadata": {},
   "outputs": [],
   "source": []
  },
  {
   "cell_type": "code",
   "execution_count": null,
   "metadata": {},
   "outputs": [],
   "source": []
  }
 ],
 "metadata": {
  "kernelspec": {
   "display_name": "gal-gal-sel [conda env:gal-gal-sel]",
   "language": "python",
   "name": "conda-env-gal-gal-sel-py"
  },
  "language_info": {
   "codemirror_mode": {
    "name": "ipython",
    "version": 3
   },
   "file_extension": ".py",
   "mimetype": "text/x-python",
   "name": "python",
   "nbconvert_exporter": "python",
   "pygments_lexer": "ipython3",
   "version": "3.10.4"
  }
 },
 "nbformat": 4,
 "nbformat_minor": 4
}
