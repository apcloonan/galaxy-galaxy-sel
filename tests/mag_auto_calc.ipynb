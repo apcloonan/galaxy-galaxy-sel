{
 "cells": [
  {
   "cell_type": "markdown",
   "metadata": {},
   "source": [
    "## mag_auto_calc\n",
    "\n",
    "Testing MAG_AUTO calculations using [SEP](https://github.com/kbarbary/sep), which has the functionality of SExtractor wrapped in Python."
   ]
  },
  {
   "cell_type": "code",
   "execution_count": 1,
   "metadata": {},
   "outputs": [
    {
     "name": "stderr",
     "output_type": "stream",
     "text": [
      "/Users/aidan/opt/anaconda3/envs/gal-gal-sel/lib/python3.10/site-packages/scipy/__init__.py:146: UserWarning: A NumPy version >=1.16.5 and <1.23.0 is required for this version of SciPy (detected version 1.23.1\n",
      "  warnings.warn(f\"A NumPy version >={np_minversion} and <{np_maxversion}\"\n"
     ]
    },
    {
     "name": "stdout",
     "output_type": "stream",
     "text": [
      "3.10.4 (main, Mar 31 2022, 03:38:35) [Clang 12.0.0 ]\n"
     ]
    }
   ],
   "source": [
    "# math, array manipulation, etc.\n",
    "import numpy as np\n",
    "\n",
    "# timing\n",
    "from timeit import default_timer\n",
    "from tqdm import tqdm\n",
    "\n",
    "import astropy.io.fits as fits\n",
    "from astropy.table import Table                    # Table data structure\n",
    "import astropy.units as u\n",
    "\n",
    "# necessary utilities from scipy, astropy and photutils\n",
    "from scipy.optimize import differential_evolution\n",
    "from scipy.ndimage import maximum_filter, gaussian_filter\n",
    "from astropy.modeling import functional_models\n",
    "from astropy.convolution import convolve, Gaussian2DKernel\n",
    "from astropy.stats import gaussian_fwhm_to_sigma, SigmaClip\n",
    "from photutils.background import Background2D, StdBackgroundRMS\n",
    "from photutils.segmentation import deblend_sources, SegmentationImage, detect_sources\n",
    "\n",
    "# plots\n",
    "import matplotlib.pyplot as plt\n",
    "import corner                       # giant triangle confusograms!\n",
    "\n",
    "#%matplotlib inline\n",
    "\n",
    "# MCMC sampling package\n",
    "import emcee\n",
    "\n",
    "# SEP\n",
    "import sep\n",
    "\n",
    "import os\n",
    "\n",
    "import sys\n",
    "print(sys.version)\n"
   ]
  },
  {
   "cell_type": "code",
   "execution_count": 2,
   "metadata": {},
   "outputs": [],
   "source": [
    "sys.path.append('/Users/aidan/Desktop/sl_project/galaxy-galaxy-sel/')\n",
    "\n",
    "from lensphoto import LensPhoto, fwhm2sigma\n",
    "\n",
    "from aidan_utils import plot_prettier, read_fits_image, get_fits_files\n",
    "\n",
    "# only need to run once\n",
    "plot_prettier()"
   ]
  },
  {
   "cell_type": "code",
   "execution_count": 53,
   "metadata": {},
   "outputs": [
    {
     "name": "stdout",
     "output_type": "stream",
     "text": [
      "/Users/aidan/Desktop/sl_project/img_cutouts/sl_jacobs/rband_dr2/no_cluster_scale/mask_works/fit_works/DESJ202518.3048-420456.9280_r.fits\n",
      "/Users/aidan/Desktop/sl_project/img_cutouts/sl_jacobs/gband_dr2/no_cluster_scale/mask_works/fit_works/DESJ202518.3048-420456.9280_g.fits\n"
     ]
    }
   ],
   "source": [
    "jr_path = '/Users/aidan/Desktop/sl_project/img_cutouts/sl_jacobs/rband_dr2/no_cluster_scale/mask_works/fit_works/'\n",
    "jg_path = '/Users/aidan/Desktop/sl_project/img_cutouts/sl_jacobs/gband_dr2/no_cluster_scale/mask_works/fit_works/'\n",
    "\n",
    "files_r = get_fits_files(jr_path)\n",
    "files_g = get_fits_files(jg_path)\n",
    "\n",
    "index = 79\n",
    "\n",
    "desid, img_r = read_fits_image(files_r[index])\n",
    "desid, img_g = read_fits_image(files_g[index])\n",
    "\n",
    "print(files_r[index])\n",
    "print(files_g[index])\n"
   ]
  },
  {
   "cell_type": "code",
   "execution_count": 54,
   "metadata": {},
   "outputs": [],
   "source": [
    "# begin by calling a quick fit\n",
    "\n",
    "# then test bootstrapping using the example in the pyimfit documentation\n",
    "\n",
    "# then run an MCMC call and compare posterior distributions using corner\n",
    "# (change to imfit's likelihood calculation, see ## comments in infit_mcmc function)\n",
    "\n",
    "fwhm_r = 0.95\n",
    "fwhm_g = 1.11\n",
    "\n",
    "std_psf_r = fwhm2sigma(fwhm_r)\n",
    "std_psf_g = fwhm2sigma(fwhm_g)\n"
   ]
  },
  {
   "cell_type": "code",
   "execution_count": 55,
   "metadata": {},
   "outputs": [
    {
     "name": "stderr",
     "output_type": "stream",
     "text": [
      "/Users/aidan/Desktop/sl_project/galaxy-galaxy-sel/lensphoto.py:215: RuntimeWarning: invalid value encountered in sqrt\n",
      "  std_gal = np.sqrt(num * img_gal)\n",
      "/Users/aidan/Desktop/sl_project/galaxy-galaxy-sel/lensphoto.py:215: RuntimeWarning: invalid value encountered in sqrt\n",
      "  std_gal = np.sqrt(num * img_gal)\n",
      "WARNING: AstropyDeprecationWarning: \"kernel\" was deprecated in version 1.5 and will be removed in a future version. Instead, if filtering is desired, please input a convolved image directly into the \"data\" parameter. [lensphoto]\n"
     ]
    },
    {
     "data": {
      "application/vnd.jupyter.widget-view+json": {
       "model_id": "a4ecf950f2c5445db46e760a0ff885ff",
       "version_major": 2,
       "version_minor": 0
      },
      "text/plain": [
       "  0%|          | 0/6 [00:00<?, ?it/s]"
      ]
     },
     "metadata": {},
     "output_type": "display_data"
    },
    {
     "name": "stderr",
     "output_type": "stream",
     "text": [
      "WARNING: AstropyDeprecationWarning: \"kernel\" was deprecated in version 1.5 and will be removed in a future version. Instead, if filtering is desired, please input a convolved image directly into the \"data\" parameter. [lensphoto]\n"
     ]
    },
    {
     "data": {
      "application/vnd.jupyter.widget-view+json": {
       "model_id": "4b2efb7961ef409cb44ed5bdef9f1c43",
       "version_major": 2,
       "version_minor": 0
      },
      "text/plain": [
       "  0%|          | 0/8 [00:00<?, ?it/s]"
      ]
     },
     "metadata": {},
     "output_type": "display_data"
    }
   ],
   "source": [
    "photo = LensPhoto(img_r = img_r, img_g = img_g\n",
    "                  , std_psf_r = std_psf_r, std_psf_g = std_psf_g\n",
    "                  , desid = desid\n",
    "                 )\n"
   ]
  },
  {
   "cell_type": "code",
   "execution_count": 7,
   "metadata": {},
   "outputs": [
    {
     "name": "stderr",
     "output_type": "stream",
     "text": [
      "  0%|                                                   | 0/500 [00:00<?, ?it/s]/Users/aidan/opt/anaconda3/envs/gal-gal-sel/lib/python3.10/site-packages/emcee/moves/red_blue.py:99: RuntimeWarning: invalid value encountered in double_scalars\n",
      "  lnpdiff = f + nlp - state.log_prob[j]\n",
      " 71%|█████████████████████████████            | 355/500 [02:12<00:55,  2.61it/s]** ModelObject::CreateModelImage -- non-finite values detected in parameter vector!\n",
      "100%|█████████████████████████████████████████| 500/500 [03:04<00:00,  2.71it/s]\n"
     ]
    }
   ],
   "source": [
    "run, dist = photo.mcmc_run()\n",
    "# 20 walkers and 500 steps are good numbers for the production run MCMCs\n",
    "\n",
    "samples = photo.dist.reshape(-1, 8)\n"
   ]
  },
  {
   "cell_type": "raw",
   "metadata": {},
   "source": [
    "# debugging new mask algorithm for production run\n",
    "\n",
    "def plot_mask(test_obj, mask, index, desid, vmin=-15, vmax=100):\n",
    "    \n",
    "    masked_gal = test_obj.copy()\n",
    "    masked_gal[mask] = -100\n",
    "\n",
    "    fig, (ax1, ax2) = plt.subplots(1, 2, figsize=(7.5, 4.5))\n",
    "    ax1.imshow(test_obj, origin='lower', cmap='cubehelix', interpolation='nearest', vmin=vmin, vmax=vmax)\n",
    "    ax1.set_title('Before Masking, ind = {}'.format(index), fontsize=18)\n",
    "    ax2.imshow(masked_gal, origin='lower', cmap='cubehelix', interpolation='nearest', vmin=vmin, vmax=vmax)\n",
    "    ax2.set_title('After Masking, ID: {}'.format(desid), fontsize=18)\n",
    "\n",
    "    # Hide axes ticks\n",
    "    for ax in (ax1, ax2):\n",
    "        ax.set_xticks([])\n",
    "        ax.set_yticks([])\n",
    "\n",
    "def create_mask(photo = photo, box_size=10, dilation_factor=3, threshold_mult = 0.5, source_npix = 25):\n",
    "    '''\n",
    "    Takes a raw input fits image and constructs a mask to filter out light \n",
    "    from other sources apart from the lens/galaxy. Returns the masked image,\n",
    "    where pixel values from other sources are set to 0.\n",
    "    \n",
    "    '''\n",
    "    \n",
    "    # construct a background image w/ background noise\n",
    "    bkg_r = Background2D(photo.img_r, box_size=box_size).background\n",
    "    bkg_g = Background2D(photo.img_g, box_size=box_size).background\n",
    "\n",
    "    # calculate RMS of each pixel, used to calculate threshold for source identification\n",
    "    sigma_clip = SigmaClip(sigma=3.0, maxiters=10)\n",
    "    bkgrms = StdBackgroundRMS(sigma_clip)\n",
    "\n",
    "    bkgrms_r = bkgrms(photo.img_r) \n",
    "    bkgrms_g = bkgrms(photo.img_g)\n",
    "\n",
    "    # thresholds over which sources are detected\n",
    "    threshold_r = bkg_r + (0.5 * bkgrms_r)\n",
    "    threshold_g = bkg_g + (0.5 * bkgrms_g)\n",
    "\n",
    "    # source detection\n",
    "    sigma = 3.0 * gaussian_fwhm_to_sigma  # FWHM = 3.\n",
    "    kernel = Gaussian2DKernel(sigma, x_size=3, y_size=3).normalize()\n",
    "\n",
    "    segm_r = detect_sources(photo.img_r, threshold_r, 25, kernel)\n",
    "    \n",
    "    # deblending sources, looking for saddles between peaks in flux\n",
    "    segm_r = deblend_sources(photo.img_r, segm_r, npixels=5,\n",
    "                             nlevels=32, contrast=0.001)\n",
    "        \n",
    "    # source detection\n",
    "    segm_g = detect_sources(photo.img_g, threshold_g, 25, kernel)\n",
    "    \n",
    "    # deblending sources, looking for saddles between peaks in flux\n",
    "    segm_g = deblend_sources(photo.img_g, segm_g, npixels=5,\n",
    "                             nlevels=32, contrast=0.001)\n",
    "        \n",
    "    comb_segm_data = segm_r.data + segm_g.data\n",
    "\n",
    "    comb_segm = SegmentationImage(comb_segm_data)\n",
    "\n",
    "    label = comb_segm.data[(comb_segm.data.shape[0]//2, comb_segm.data.shape[1]//2)]\n",
    "    label_loc = np.argwhere(comb_segm.labels == label)[0]\n",
    "    other_inds = np.delete(comb_segm.labels, label_loc)\n",
    "\n",
    "    source = (comb_segm.data == label)\n",
    "\n",
    "    # get pixels from all other sources\n",
    "    deblend_copy = comb_segm.copy()\n",
    "    deblend_copy.keep_labels(other_inds)\n",
    "        \n",
    "    segm_dilated_arr = maximum_filter(deblend_copy.data, 3)\n",
    "    segm_dilated_arr[deblend_copy.data != 0] = deblend_copy.data[deblend_copy.data != 0]\n",
    "        \n",
    "    # label central source, which is the lens/galaxy\n",
    "    segm_dilated_arr[source] = 10000\n",
    "    \n",
    "    segm_dilated = SegmentationImage(segm_dilated_arr)\n",
    "    \n",
    "    other_inds = np.delete(segm_dilated.labels, -1)\n",
    "\n",
    "    # get pixels from all other sources\n",
    "    segm_dilated.keep_labels(other_inds)\n",
    "        \n",
    "    photo.segm = segm_dilated.data\n",
    "    \n",
    "    photo.mask = (photo.segm > 0)\n",
    "    photo.unmask = np.invert(photo.mask)\n",
    "\n",
    "    # make values of those pixels 0 in img_gal\n",
    "    gal_copy_g = photo.img_gal_g.copy()\n",
    "    gal_copy_g[photo.mask] = 0\n",
    "    gal_copy_r = photo.img_gal_r.copy()\n",
    "    gal_copy_r[photo.mask] = 0\n",
    "    \n",
    "    return gal_copy_r, gal_copy_g, comb_segm\n",
    "        \n",
    "testr, testg, comb_segm = create_mask(source_npix = 25)\n",
    "\n",
    "plot_mask(testr, photo.mask, index = index, desid = desid, vmin = -30,vmax=np.max(photo.img_gal_r))\n"
   ]
  },
  {
   "cell_type": "code",
   "execution_count": 8,
   "metadata": {},
   "outputs": [
    {
     "name": "stdout",
     "output_type": "stream",
     "text": [
      "----------------------------\n",
      "\n"
     ]
    },
    {
     "data": {
      "image/png": "[encoded data removed]",
      "text/plain": [
       "<Figure size 2400x1200 with 10 Axes>"
      ]
     },
     "metadata": {
      "needs_background": "light"
     },
     "output_type": "display_data"
    }
   ],
   "source": [
    "profile_r, profile_g = photo.plot_gal()"
   ]
  },
  {
   "cell_type": "code",
   "execution_count": 8,
   "metadata": {},
   "outputs": [
    {
     "name": "stderr",
     "output_type": "stream",
     "text": [
      "0it [00:00, ?it/s]/Users/aidan/Desktop/sl_project/galaxy-galaxy-sel/lensphoto.py:697: RuntimeWarning: divide by zero encountered in log10\n",
      "  mag = -2.5*np.log10(flux) + 30\n",
      "2000it [00:39, 50.38it/s]\n"
     ]
    }
   ],
   "source": [
    "rmag_arr, gmag_arr = photo.mag_arrays()"
   ]
  },
  {
   "cell_type": "code",
   "execution_count": 38,
   "metadata": {},
   "outputs": [
    {
     "data": {
      "image/png": "[encoded data removed]",
      "text/plain": [
       "<Figure size 1400x400 with 3 Axes>"
      ]
     },
     "metadata": {
      "needs_background": "light"
     },
     "output_type": "display_data"
    }
   ],
   "source": [
    "gr_arr = gmag_arr - rmag_arr\n",
    "\n",
    "gmag_arr_cut = gmag_arr[gmag_arr < 23]\n",
    "gr_arr_cut = gr_arr[gmag_arr < 23]\n",
    "\n",
    "fig, ax = plt.subplots(1,3, figsize=(7,2))\n",
    "\n",
    "ax[0].hist(gmag_arr_cut, bins=20, color='blue', histtype='step', density=True)\n",
    "ax[0].axvline(np.percentile(gmag_arr_cut, 16), linestyle='--', c='black')\n",
    "ax[0].axvline(np.percentile(gmag_arr_cut, 50), linestyle='--', c='black')\n",
    "ax[0].axvline(np.percentile(gmag_arr_cut, 84), linestyle='--', c='black')\n",
    "\n",
    "ax[0].set_xlabel('$g$')\n",
    "\n",
    "ax[1].hist(rmag_arr, bins=20, color='red', histtype='step', density=True)\n",
    "ax[1].axvline(np.percentile(rmag_arr, 16), linestyle='--', c='black')\n",
    "ax[1].axvline(np.percentile(rmag_arr, 50), linestyle='--', c='black')\n",
    "ax[1].axvline(np.percentile(rmag_arr, 84), linestyle='--', c='black')\n",
    "\n",
    "ax[1].set_xlabel('$r$')\n",
    "\n",
    "ax[2].hist(gr_arr_cut, bins=20, color='green', histtype='step', density=True)\n",
    "ax[2].axvline(np.percentile(gr_arr_cut, 16), linestyle='--', c='black')\n",
    "ax[2].axvline(np.percentile(gr_arr_cut, 50), linestyle='--', c='black')\n",
    "ax[2].axvline(np.percentile(gr_arr_cut, 84), linestyle='--', c='black')\n",
    "\n",
    "ax[2].set_xlabel('$g-r$')\n",
    "\n",
    "plt.show()"
   ]
  },
  {
   "cell_type": "code",
   "execution_count": 28,
   "metadata": {},
   "outputs": [
    {
     "name": "stdout",
     "output_type": "stream",
     "text": [
      "1.38138778995582\n",
      "1.3790426901316053\n",
      "0.0023450998242147136\n"
     ]
    }
   ],
   "source": [
    "# do medians match up?\n",
    "med1 = np.median(gmag_arr_cut) - np.median(rmag_arr)\n",
    "med2 = np.median(gr_arr_cut)\n",
    "\n",
    "print(med1)\n",
    "print(med2)\n",
    "print(med1 - med2)\n"
   ]
  },
  {
   "cell_type": "raw",
   "metadata": {},
   "source": [
    "vmin = -5\n",
    "\n",
    "fig, (ax1, ax2, ax3) = plt.subplots(1, 3, figsize=(7.5, 4.5))\n",
    "ax1.imshow(photo.img_g, origin='lower', cmap='cubehelix', interpolation='nearest', vmin=vmin, vmax=np.max(img_g))\n",
    "ax1.set_title('Data', fontsize=18)\n",
    "ax2.imshow(photo.profile_g, origin='lower', cmap='cubehelix', interpolation='nearest', vmin=vmin, vmax=np.max(img_g))\n",
    "ax2.set_title('Model', fontsize=18)\n",
    "ax3.imshow(photo.img_g - photo.profile_g, origin='lower', cmap='cubehelix', interpolation='nearest', vmin=vmin, vmax=np.max(img_g))\n",
    "ax3.set_title('Residual', fontsize=18)"
   ]
  },
  {
   "cell_type": "markdown",
   "metadata": {},
   "source": [
    "#### Below, I'm testing functionality of individual steps\n",
    "\n",
    "Full function with SEP functionalities, to be added to `LensPhoto` class."
   ]
  },
  {
   "cell_type": "code",
   "execution_count": 94,
   "metadata": {},
   "outputs": [
    {
     "data": {
      "text/plain": [
       "(6000, 8)"
      ]
     },
     "execution_count": 94,
     "metadata": {},
     "output_type": "execute_result"
    }
   ],
   "source": [
    "samples.shape"
   ]
  },
  {
   "cell_type": "code",
   "execution_count": 136,
   "metadata": {},
   "outputs": [],
   "source": [
    "def norm_to_notnorm(v, photo=photo):\n",
    "    '''\n",
    "    takes a sample from the posterior and calculates non-normalized amplitude\n",
    "    '''\n",
    "        \n",
    "    x0, y0, th, e, nr, rr, ng, rg = v\n",
    "        \n",
    "    gal_filt_r = photo.img_gal_r[photo.unmask]\n",
    "    gal_filt_g = photo.img_gal_g[photo.unmask]\n",
    "        \n",
    "    stds_filt_r = photo.stds_r[photo.unmask]\n",
    "    stds_filt_g = photo.stds_g[photo.unmask]\n",
    "        \n",
    "    # r-band\n",
    "    norm_params_r = np.array([x0, y0, th, e, nr, 1.0, rr])\n",
    "    norm_profile_r = photo.imfit_r.getModelImage(newParameters=norm_params_r)\n",
    "    norm_filt_r = norm_profile_r[photo.unmask]\n",
    "        \n",
    "    # g-band\n",
    "    norm_params_g = np.array([x0, y0, th, e, ng, 1.0, rg])\n",
    "    norm_profile_g = photo.imfit_g.getModelImage(newParameters=norm_params_g)\n",
    "    norm_filt_g = norm_profile_g[photo.unmask]\n",
    "    \n",
    "    # find amplitudes, then replace in parameter arrays\n",
    "    # r-band\n",
    "    Ie_r = np.sum((norm_filt_r * (gal_filt_r))\n",
    "                  / (stds_filt_r)**2) / np.sum((norm_filt_r)**2 \n",
    "                                               / (stds_filt_r)**2)\n",
    "        \n",
    "    # g-band\n",
    "    Ie_g = np.sum((norm_filt_g * (gal_filt_g))\n",
    "                  / (stds_filt_g)**2) / np.sum((norm_filt_g)**2 \n",
    "                                               / (stds_filt_g)**2)\n",
    "        \n",
    "    return Ie_r, Ie_g\n",
    "\n",
    "def calc_mag_auto(model):\n",
    "    '''\n",
    "    takes a model galaxy image and calculates the galaxy's MAG_AUTO value\n",
    "    '''\n",
    "        \n",
    "    objs = sep.extract(model, 3, err=0.)\n",
    "    x, y, a, b, theta = objs['x'], objs['y'], objs['a'], objs['b'], objs['theta']\n",
    "        \n",
    "    kronrad, krflag = sep.kron_radius(model, x, y, a, b, theta, 6.0)\n",
    "    rscale = 15 * kronrad\n",
    "\n",
    "    flux, fluxerr, flag = sep.sum_ellipse(model, x, y, a, b, theta, rscale,\n",
    "                                              subpix=1)\n",
    "    mag = -2.5*np.log10(flux) + 30\n",
    "    \n",
    "    valid_inds = (np.isfinite(mag) #| np.isnan(mag)\n",
    "                   )\n",
    "    \n",
    "    # if there is more than one mag value and only one is a number, then take mag to be that number\n",
    "    # if there is more than one mag value and none are numbers, then take mag to be first index\n",
    "    # if there is more than one mag value and multiple are numbers, then take mag to be the largest number\n",
    "    \n",
    "    if (len(mag) > 1) and (len(mag[valid_inds]) == 1):\n",
    "        mag = mag[valid_inds]\n",
    "        \n",
    "    elif (len(mag) > 1) and (len(mag[valid_inds]) > 1):\n",
    "        mag = mag[valid_inds]\n",
    "        max_ind = np.argmax(mag)\n",
    "        \n",
    "        mag = mag[max_ind]\n",
    "        \n",
    "    elif (len(mag) > 1) and (len(mag[valid_inds]) < 1):\n",
    "        mag = mag[0]\n",
    "    \n",
    "    return mag\n",
    "\n",
    "photo.burnin = 200\n",
    "\n",
    "def mag_arrays(photo=photo):\n",
    "    '''\n",
    "    calculates MAG_AUTO value for each step in the sampled posterior distribution\n",
    "    '''\n",
    "        \n",
    "    photo.rmag_arr = np.full(photo.nwalkers * (photo.steps - photo.burnin), 1.)\n",
    "    photo.gmag_arr = np.full(photo.nwalkers * (photo.steps - photo.burnin), 1.)\n",
    "    \n",
    "    print(photo.rmag_arr.shape)\n",
    "        \n",
    "    try:\n",
    "        samples = photo.dist.reshape(-1, 8)\n",
    "        \n",
    "        for ind, sample in tqdm(enumerate(samples)):\n",
    "            \n",
    "            x0, y0, th, e, nr, rr, ng, rg = sample\n",
    "            \n",
    "            Ie_r, Ie_g = norm_to_notnorm(sample)\n",
    "            \n",
    "            # r-band\n",
    "            \n",
    "            params_r = np.array([x0, y0, th, e, nr, Ie_r, rr])\n",
    "            profile_r = photo.imfit_r.getModelImage(newParameters=params_r)\n",
    "            \n",
    "            mag_r = calc_mag_auto(profile_r)\n",
    "            photo.rmag_arr[ind] = mag_r\n",
    "            \n",
    "            # g-band\n",
    "            \n",
    "            params_g = np.array([x0, y0, th, e, ng, Ie_g, rg])\n",
    "            profile_g = photo.imfit_r.getModelImage(newParameters=params_g)\n",
    "            \n",
    "            mag_g = calc_mag_auto(profile_g)\n",
    "            photo.gmag_arr[ind] = mag_g\n",
    "            \n",
    "    except:\n",
    "        raise NoSamplingError('Posterior distribution must be sampled first.')\n",
    "    \n",
    "    return photo.rmag_arr, photo.gmag_arr"
   ]
  },
  {
   "cell_type": "raw",
   "metadata": {},
   "source": [
    "rmag_arr, gmag_arr = mag_arrays()"
   ]
  },
  {
   "cell_type": "code",
   "execution_count": 172,
   "metadata": {},
   "outputs": [],
   "source": [
    "gmag_arr_cut = gmag_arr[gmag_arr < 23]"
   ]
  },
  {
   "cell_type": "raw",
   "metadata": {},
   "source": [
    "fig, ax = plt.subplots(1,2, figsize=(8,3))\n",
    "\n",
    "ax[0].hist(gmag_arr_cut, bins=25, color='blue', histtype='step', density=True)\n",
    "ax[0].axvline(np.percentile(gmag_arr_cut, 16), linestyle='--', c='black')\n",
    "ax[0].axvline(np.percentile(gmag_arr_cut, 50), linestyle='--', c='black')\n",
    "ax[0].axvline(np.percentile(gmag_arr_cut, 84), linestyle='--', c='black')\n",
    "\n",
    "ax[1].hist(rmag_arr, bins=20, color='red', histtype='step', density=True)\n",
    "ax[1].axvline(np.percentile(rmag_arr, 16), linestyle='--', c='black')\n",
    "ax[1].axvline(np.percentile(rmag_arr, 50), linestyle='--', c='black')\n",
    "ax[1].axvline(np.percentile(rmag_arr, 84), linestyle='--', c='black')\n",
    "\n",
    "plt.show()"
   ]
  },
  {
   "cell_type": "markdown",
   "metadata": {},
   "source": [
    "SEP functionalities"
   ]
  },
  {
   "cell_type": "code",
   "execution_count": 110,
   "metadata": {},
   "outputs": [
    {
     "data": {
      "text/plain": [
       "(array([4.14628935]), array([3.5341804]))"
      ]
     },
     "execution_count": 110,
     "metadata": {},
     "output_type": "execute_result"
    }
   ],
   "source": [
    "objs = sep.extract(photo.profile_r, 3, err=0.)\n",
    "\n",
    "x, y, a, b, theta = objs['x'], objs['y'], objs['a'], objs['b'], objs['theta']\n",
    "a,b"
   ]
  },
  {
   "cell_type": "code",
   "execution_count": 106,
   "metadata": {},
   "outputs": [
    {
     "name": "stdout",
     "output_type": "stream",
     "text": [
      "[21.09217828]\n"
     ]
    }
   ],
   "source": [
    "kronrad, krflag = sep.kron_radius(photo.profile_r, x, y, a, b, theta, 6.0)\n",
    "\n",
    "rscale = 15 * kronrad\n",
    "\n",
    "flux, fluxerr, flag = sep.sum_ellipse(photo.profile_r, x, y, a, b, theta, rscale,\n",
    "                                      subpix=1)\n",
    "\n",
    "mag = -2.5*np.log10(flux) + 30\n",
    "print(mag)"
   ]
  },
  {
   "cell_type": "raw",
   "metadata": {},
   "source": [
    "from matplotlib.patches import Ellipse\n",
    "\n",
    "# plot background-subtracted image\n",
    "fig, ax = plt.subplots()\n",
    "m, s = np.mean(photo.profile_r), np.std(photo.profile_r)\n",
    "im = ax.imshow(photo.profile_r, interpolation='nearest', cmap='gray',\n",
    "               vmin=m-s, vmax=m+s, origin='lower')\n",
    "\n",
    "# plot an ellipse for each object\n",
    "for i in range(len(objects)):\n",
    "    e = Ellipse(xy=(objs['x'][i], objs['y'][i]),\n",
    "                width=rscale*objs['a'][i],\n",
    "                height=rscale*objs['b'][i],\n",
    "                angle=objs['theta'][i] * 180. / np.pi)\n",
    "    e.set_facecolor('none')\n",
    "    e.set_edgecolor('red')\n",
    "    ax.add_artist(e)"
   ]
  },
  {
   "cell_type": "code",
   "execution_count": null,
   "metadata": {},
   "outputs": [],
   "source": []
  }
 ],
 "metadata": {
  "kernelspec": {
   "display_name": "gal-gal-sel [conda env:gal-gal-sel]",
   "language": "python",
   "name": "conda-env-gal-gal-sel-py"
  },
  "language_info": {
   "codemirror_mode": {
    "name": "ipython",
    "version": 3
   },
   "file_extension": ".py",
   "mimetype": "text/x-python",
   "name": "python",
   "nbconvert_exporter": "python",
   "pygments_lexer": "ipython3",
   "version": "3.10.4"
  }
 },
 "nbformat": 4,
 "nbformat_minor": 4
}
