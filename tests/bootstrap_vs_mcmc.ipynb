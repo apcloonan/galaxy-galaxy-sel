{
 "cells": [
  {
   "cell_type": "markdown",
   "metadata": {},
   "source": [
    "### Testing Bootstrapping against MCMC"
   ]
  },
  {
   "cell_type": "code",
   "execution_count": 1,
   "metadata": {},
   "outputs": [],
   "source": [
    "# math, array manipulation, etc.\n",
    "import numpy as np\n",
    "\n",
    "# timing\n",
    "from timeit import default_timer\n",
    "\n",
    "import astropy.io.fits as fits\n",
    "from astropy.table import Table                    # Table data structure\n",
    "import astropy.units as u\n",
    "\n",
    "# necessary utilities from scipy, astropy and photutils\n",
    "from scipy.optimize import differential_evolution\n",
    "from scipy.ndimage import maximum_filter, gaussian_filter\n",
    "from astropy.modeling import functional_models\n",
    "from astropy.convolution import convolve, Gaussian2DKernel\n",
    "from astropy.stats import gaussian_fwhm_to_sigma, SigmaClip\n",
    "from photutils import background\n",
    "from photutils.background import Background2D, StdBackgroundRMS\n",
    "from photutils.segmentation import deblend_sources, SegmentationImage, detect_sources\n",
    "\n",
    "# plots\n",
    "import matplotlib.pyplot as plt\n",
    "import corner                       # giant triangle confusograms!\n",
    "\n",
    "#%matplotlib inline\n",
    "\n",
    "# MCMC sampling package\n",
    "import emcee\n",
    "\n",
    "import os\n",
    "\n",
    "import sys\n"
   ]
  },
  {
   "cell_type": "code",
   "execution_count": 2,
   "metadata": {},
   "outputs": [],
   "source": [
    "sys.path.append('/Users/aidan/Desktop/sl_project/galaxy-galaxy-sel/')\n",
    "\n",
    "from imfit_mcmc import SersicMCMC"
   ]
  },
  {
   "cell_type": "code",
   "execution_count": 82,
   "metadata": {},
   "outputs": [],
   "source": [
    "jr_path = '/Users/aidan/Desktop/sl_project/img_cutouts/sl_jacobs/rband_dr2/no_cluster_scale/mask_works/fit_works/'\n",
    "jg_path = '/Users/aidan/Desktop/sl_project/img_cutouts/sl_jacobs/gband_dr2/no_cluster_scale/mask_works/fit_works/'\n",
    "\n",
    "files = np.array(os.listdir(jr_path))\n",
    "finds = [i for i, f in enumerate(files) if 'DESJ' in f]\n",
    "files_r = files[finds]\n",
    "\n",
    "files = np.array(os.listdir(jg_path))\n",
    "finds = [i for i, f in enumerate(files) if 'DESJ' in f]\n",
    "files_g = files[finds]\n",
    "\n",
    "index = 5\n",
    "\n",
    "filename_r = os.path.join(jr_path, files_r[index])\n",
    "filename_g = os.path.join(jg_path, files_g[index])\n",
    "\n",
    "img_r = fits.open(filename_r)[0].data\n",
    "img_g = fits.open(filename_g)[0].data\n"
   ]
  },
  {
   "cell_type": "code",
   "execution_count": null,
   "metadata": {},
   "outputs": [],
   "source": [
    "# begin by calling a quick fit\n",
    "\n",
    "# then test bootstrapping using the example in the pyimfit documentation\n",
    "\n",
    "# then run an MCMC call and compare posterior distributions using corner\n"
   ]
  }
 ],
 "metadata": {
  "kernelspec": {
   "display_name": "Python [conda env:gal-gal-sel]",
   "language": "python",
   "name": "conda-env-gal-gal-sel-py"
  },
  "language_info": {
   "codemirror_mode": {
    "name": "ipython",
    "version": 3
   },
   "file_extension": ".py",
   "mimetype": "text/x-python",
   "name": "python",
   "nbconvert_exporter": "python",
   "pygments_lexer": "ipython3",
   "version": "3.10.4"
  }
 },
 "nbformat": 4,
 "nbformat_minor": 4
}
