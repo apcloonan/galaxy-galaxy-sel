{
 "cells": [
  {
   "cell_type": "markdown",
   "metadata": {},
   "source": [
    "### Testing Bootstrapping against MCMC"
   ]
  },
  {
   "cell_type": "code",
   "execution_count": 1,
   "metadata": {},
   "outputs": [],
   "source": [
    "# math, array manipulation, etc.\n",
    "import numpy as np\n",
    "\n",
    "# timing\n",
    "from timeit import default_timer\n",
    "\n",
    "import astropy.io.fits as fits\n",
    "from astropy.table import Table                    # Table data structure\n",
    "import astropy.units as u\n",
    "\n",
    "# necessary utilities from scipy, astropy and photutils\n",
    "from scipy.optimize import differential_evolution\n",
    "from scipy.ndimage import maximum_filter, gaussian_filter\n",
    "from astropy.modeling import functional_models\n",
    "from astropy.convolution import convolve, Gaussian2DKernel\n",
    "from astropy.stats import gaussian_fwhm_to_sigma, SigmaClip\n",
    "from photutils.background import Background2D, StdBackgroundRMS\n",
    "from photutils.segmentation import deblend_sources, SegmentationImage, detect_sources\n",
    "\n",
    "# plots\n",
    "import matplotlib.pyplot as plt\n",
    "import corner                       # giant triangle confusograms!\n",
    "\n",
    "#%matplotlib inline\n",
    "\n",
    "# MCMC sampling package\n",
    "import emcee\n",
    "\n",
    "import os\n",
    "\n",
    "import sys\n"
   ]
  },
  {
   "cell_type": "code",
   "execution_count": 2,
   "metadata": {},
   "outputs": [],
   "source": [
    "sys.path.append('/Users/aidan/Desktop/sl_project/galaxy-galaxy-sel/')\n",
    "\n",
    "from imfit_mcmc import SersicMCMC\n",
    "\n",
    "from aidan_utils import plot_prettier, read_fits_image, get_fits_files\n",
    "\n",
    "# only need to run once\n",
    "plot_prettier()"
   ]
  },
  {
   "cell_type": "code",
   "execution_count": 3,
   "metadata": {},
   "outputs": [],
   "source": [
    "jr_path = '/Users/aidan/Desktop/sl_project/img_cutouts/sl_jacobs/rband_dr2/no_cluster_scale/mask_works/fit_works/'\n",
    "jg_path = '/Users/aidan/Desktop/sl_project/img_cutouts/sl_jacobs/gband_dr2/no_cluster_scale/mask_works/fit_works/'\n",
    "\n",
    "files = np.array(os.listdir(jr_path))\n",
    "finds = [i for i, f in enumerate(files) if 'DESJ' in f]\n",
    "files_r = files[finds]\n",
    "\n",
    "files = np.array(os.listdir(jg_path))\n",
    "finds = [i for i, f in enumerate(files) if 'DESJ' in f]\n",
    "files_g = files[finds]\n",
    "\n",
    "index = 5\n",
    "\n",
    "filename_r = os.path.join(jr_path, files_r[index])\n",
    "filename_g = os.path.join(jg_path, files_g[index])\n",
    "\n",
    "img_r = fits.open(filename_r)[0].data\n",
    "img_g = fits.open(filename_g)[0].data\n"
   ]
  },
  {
   "cell_type": "code",
   "execution_count": 98,
   "metadata": {},
   "outputs": [],
   "source": [
    "# begin by calling a quick fit\n",
    "\n",
    "# then test bootstrapping using the example in the pyimfit documentation\n",
    "\n",
    "# then run an MCMC call and compare posterior distributions using corner\n"
   ]
  },
  {
   "cell_type": "code",
   "execution_count": 144,
   "metadata": {},
   "outputs": [],
   "source": [
    "def get_fits_files(path):\n",
    "    '''\n",
    "    given a directory as an input, this returns the path + filename of all FITS files in that\n",
    "    directory\n",
    "    '''\n",
    "    files = np.array(os.listdir(path))\n",
    "    finds = [i for i, f in enumerate(files) if '.fits' in f]\n",
    "    files = files[finds]\n",
    "    return np.core.defchararray.add(np.full(len(files), path), files)\n"
   ]
  },
  {
   "cell_type": "code",
   "execution_count": 4,
   "metadata": {},
   "outputs": [
    {
     "ename": "NameError",
     "evalue": "name 'os' is not defined",
     "output_type": "error",
     "traceback": [
      "\u001b[0;31m---------------------------------------------------------------------------\u001b[0m",
      "\u001b[0;31mNameError\u001b[0m                                 Traceback (most recent call last)",
      "Input \u001b[0;32mIn [4]\u001b[0m, in \u001b[0;36m<cell line: 1>\u001b[0;34m()\u001b[0m\n\u001b[0;32m----> 1\u001b[0m files \u001b[38;5;241m=\u001b[39m \u001b[43mget_fits_files\u001b[49m\u001b[43m(\u001b[49m\u001b[43mjr_path\u001b[49m\u001b[43m)\u001b[49m\n",
      "File \u001b[0;32m~/Desktop/sl_project/galaxy-galaxy-sel/aidan_utils.py:52\u001b[0m, in \u001b[0;36mget_fits_files\u001b[0;34m(path)\u001b[0m\n\u001b[1;32m     47\u001b[0m \u001b[38;5;28;01mdef\u001b[39;00m \u001b[38;5;21mget_fits_files\u001b[39m(path):\n\u001b[1;32m     48\u001b[0m     \u001b[38;5;124;03m'''\u001b[39;00m\n\u001b[1;32m     49\u001b[0m \u001b[38;5;124;03m    given a directory as an input, this returns the path + filename of all FITS files in that\u001b[39;00m\n\u001b[1;32m     50\u001b[0m \u001b[38;5;124;03m    directory\u001b[39;00m\n\u001b[1;32m     51\u001b[0m \u001b[38;5;124;03m    '''\u001b[39;00m\n\u001b[0;32m---> 52\u001b[0m     files \u001b[38;5;241m=\u001b[39m np\u001b[38;5;241m.\u001b[39marray(\u001b[43mos\u001b[49m\u001b[38;5;241m.\u001b[39mlistdir(path))\n\u001b[1;32m     53\u001b[0m     finds \u001b[38;5;241m=\u001b[39m [i \u001b[38;5;28;01mfor\u001b[39;00m i, f \u001b[38;5;129;01min\u001b[39;00m \u001b[38;5;28menumerate\u001b[39m(files) \u001b[38;5;28;01mif\u001b[39;00m \u001b[38;5;124m'\u001b[39m\u001b[38;5;124m.fits\u001b[39m\u001b[38;5;124m'\u001b[39m \u001b[38;5;129;01min\u001b[39;00m f]\n\u001b[1;32m     54\u001b[0m     files \u001b[38;5;241m=\u001b[39m files[finds]\n",
      "\u001b[0;31mNameError\u001b[0m: name 'os' is not defined"
     ]
    }
   ],
   "source": [
    "files = get_fits_files(jr_path)"
   ]
  },
  {
   "cell_type": "code",
   "execution_count": 146,
   "metadata": {},
   "outputs": [
    {
     "data": {
      "text/plain": [
       "array(['/Users/aidan/Desktop/sl_project/img_cutouts/sl_jacobs/rband_dr2/no_cluster_scale/mask_works/fit_works/DESJ220044.5080-412820.1720_r.fits',\n",
       "       '/Users/aidan/Desktop/sl_project/img_cutouts/sl_jacobs/rband_dr2/no_cluster_scale/mask_works/fit_works/DESJ010306.0048-432253.1840_r.fits',\n",
       "       '/Users/aidan/Desktop/sl_project/img_cutouts/sl_jacobs/rband_dr2/no_cluster_scale/mask_works/fit_works/DESJ030151.3120-442625.9800_r.fits',\n",
       "       '/Users/aidan/Desktop/sl_project/img_cutouts/sl_jacobs/rband_dr2/no_cluster_scale/mask_works/fit_works/DESJ034834.6488-130646.9080_r.fits',\n",
       "       '/Users/aidan/Desktop/sl_project/img_cutouts/sl_jacobs/rband_dr2/no_cluster_scale/mask_works/fit_works/DESJ202518.3048-420456.9280_r.fits',\n",
       "       '/Users/aidan/Desktop/sl_project/img_cutouts/sl_jacobs/rband_dr2/no_cluster_scale/mask_works/fit_works/DESJ004659.5944+012736.1440_r.fits',\n",
       "       '/Users/aidan/Desktop/sl_project/img_cutouts/sl_jacobs/rband_dr2/no_cluster_scale/mask_works/fit_works/DESJ010127.8496-334319.2360_r.fits',\n",
       "       '/Users/aidan/Desktop/sl_project/img_cutouts/sl_jacobs/rband_dr2/no_cluster_scale/mask_works/fit_works/DESJ025135.2920-122001.2120_r.fits',\n",
       "       '/Users/aidan/Desktop/sl_project/img_cutouts/sl_jacobs/rband_dr2/no_cluster_scale/mask_works/fit_works/DESJ025021.2376-254513.7520_r.fits',\n",
       "       '/Users/aidan/Desktop/sl_project/img_cutouts/sl_jacobs/rband_dr2/no_cluster_scale/mask_works/fit_works/DESJ010548.0408-372542.4560_r.fits',\n",
       "       '/Users/aidan/Desktop/sl_project/img_cutouts/sl_jacobs/rband_dr2/no_cluster_scale/mask_works/fit_works/DESJ035242.4080-382544.9400_r.fits',\n",
       "       '/Users/aidan/Desktop/sl_project/img_cutouts/sl_jacobs/rband_dr2/no_cluster_scale/mask_works/fit_works/DESJ012428.5264-291856.1960_r.fits',\n",
       "       '/Users/aidan/Desktop/sl_project/img_cutouts/sl_jacobs/rband_dr2/no_cluster_scale/mask_works/fit_works/DESJ024129.6136-594932.8800_r.fits',\n",
       "       '/Users/aidan/Desktop/sl_project/img_cutouts/sl_jacobs/rband_dr2/no_cluster_scale/mask_works/fit_works/DESJ013322.1088-125201.2000_r.fits',\n",
       "       '/Users/aidan/Desktop/sl_project/img_cutouts/sl_jacobs/rband_dr2/no_cluster_scale/mask_works/fit_works/DESJ211005.3928-563930.5640_r.fits',\n",
       "       '/Users/aidan/Desktop/sl_project/img_cutouts/sl_jacobs/rband_dr2/no_cluster_scale/mask_works/fit_works/DESJ004109.0072-004348.9000_r.fits',\n",
       "       '/Users/aidan/Desktop/sl_project/img_cutouts/sl_jacobs/rband_dr2/no_cluster_scale/mask_works/fit_works/DESJ211825.7472-431739.5880_r.fits',\n",
       "       '/Users/aidan/Desktop/sl_project/img_cutouts/sl_jacobs/rband_dr2/no_cluster_scale/mask_works/fit_works/DESJ034744.5344-245431.4640_r.fits',\n",
       "       '/Users/aidan/Desktop/sl_project/img_cutouts/sl_jacobs/rband_dr2/no_cluster_scale/mask_works/fit_works/DESJ062623.1168-573030.1320_r.fits',\n",
       "       '/Users/aidan/Desktop/sl_project/img_cutouts/sl_jacobs/rband_dr2/no_cluster_scale/mask_works/fit_works/DESJ054627.4920-332922.7040_r.fits',\n",
       "       '/Users/aidan/Desktop/sl_project/img_cutouts/sl_jacobs/rband_dr2/no_cluster_scale/mask_works/fit_works/DESJ010659.1336-443201.4280_r.fits',\n",
       "       '/Users/aidan/Desktop/sl_project/img_cutouts/sl_jacobs/rband_dr2/no_cluster_scale/mask_works/fit_works/DESJ000729.2824-443446.1640_r.fits',\n",
       "       '/Users/aidan/Desktop/sl_project/img_cutouts/sl_jacobs/rband_dr2/no_cluster_scale/mask_works/fit_works/DESJ212651.1440-005827.3000_r.fits',\n",
       "       '/Users/aidan/Desktop/sl_project/img_cutouts/sl_jacobs/rband_dr2/no_cluster_scale/mask_works/fit_works/DESJ014106.1392-171323.7360_r.fits',\n",
       "       '/Users/aidan/Desktop/sl_project/img_cutouts/sl_jacobs/rband_dr2/no_cluster_scale/mask_works/fit_works/DESJ222835.2248-465023.8200_r.fits',\n",
       "       '/Users/aidan/Desktop/sl_project/img_cutouts/sl_jacobs/rband_dr2/no_cluster_scale/mask_works/fit_works/DESJ024440.9296-000837.1760_r.fits',\n",
       "       '/Users/aidan/Desktop/sl_project/img_cutouts/sl_jacobs/rband_dr2/no_cluster_scale/mask_works/fit_works/DESJ011218.0840-043458.7280_r.fits',\n",
       "       '/Users/aidan/Desktop/sl_project/img_cutouts/sl_jacobs/rband_dr2/no_cluster_scale/mask_works/fit_works/DESJ030919.7160-133212.2640_r.fits',\n",
       "       '/Users/aidan/Desktop/sl_project/img_cutouts/sl_jacobs/rband_dr2/no_cluster_scale/mask_works/fit_works/DESJ014326.9328-085021.3000_r.fits',\n",
       "       '/Users/aidan/Desktop/sl_project/img_cutouts/sl_jacobs/rband_dr2/no_cluster_scale/mask_works/fit_works/DESJ022708.9616-471855.8000_r.fits',\n",
       "       '/Users/aidan/Desktop/sl_project/img_cutouts/sl_jacobs/rband_dr2/no_cluster_scale/mask_works/fit_works/DESJ035720.5560-595154.4320_r.fits',\n",
       "       '/Users/aidan/Desktop/sl_project/img_cutouts/sl_jacobs/rband_dr2/no_cluster_scale/mask_works/fit_works/DESJ032028.0368-415919.7160_r.fits',\n",
       "       '/Users/aidan/Desktop/sl_project/img_cutouts/sl_jacobs/rband_dr2/no_cluster_scale/mask_works/fit_works/DESJ023505.9160-451054.2280_r.fits',\n",
       "       '/Users/aidan/Desktop/sl_project/img_cutouts/sl_jacobs/rband_dr2/no_cluster_scale/mask_works/fit_works/DESJ054605.0592-200025.5240_r.fits',\n",
       "       '/Users/aidan/Desktop/sl_project/img_cutouts/sl_jacobs/rband_dr2/no_cluster_scale/mask_works/fit_works/DESJ021036.8256-535152.5600_r.fits',\n",
       "       '/Users/aidan/Desktop/sl_project/img_cutouts/sl_jacobs/rband_dr2/no_cluster_scale/mask_works/fit_works/DESJ020621.9528-205420.1960_r.fits',\n",
       "       '/Users/aidan/Desktop/sl_project/img_cutouts/sl_jacobs/rband_dr2/no_cluster_scale/mask_works/fit_works/DESJ001916.3272-413650.5800_r.fits',\n",
       "       '/Users/aidan/Desktop/sl_project/img_cutouts/sl_jacobs/rband_dr2/no_cluster_scale/mask_works/fit_works/DESJ214546.3872-430649.3200_r.fits',\n",
       "       '/Users/aidan/Desktop/sl_project/img_cutouts/sl_jacobs/rband_dr2/no_cluster_scale/mask_works/fit_works/DESJ230003.1872-445423.2920_r.fits',\n",
       "       '/Users/aidan/Desktop/sl_project/img_cutouts/sl_jacobs/rband_dr2/no_cluster_scale/mask_works/fit_works/DESJ001424.2784+004145.4560_r.fits',\n",
       "       '/Users/aidan/Desktop/sl_project/img_cutouts/sl_jacobs/rband_dr2/no_cluster_scale/mask_works/fit_works/DESJ233551.9264-515217.7960_r.fits',\n",
       "       '/Users/aidan/Desktop/sl_project/img_cutouts/sl_jacobs/rband_dr2/no_cluster_scale/mask_works/fit_works/DESJ010952.6680-333533.2160_r.fits',\n",
       "       '/Users/aidan/Desktop/sl_project/img_cutouts/sl_jacobs/rband_dr2/no_cluster_scale/mask_works/fit_works/DESJ050849.2648-214430.7320_r.fits',\n",
       "       '/Users/aidan/Desktop/sl_project/img_cutouts/sl_jacobs/rband_dr2/no_cluster_scale/mask_works/fit_works/DESJ014252.8720-183115.7800_r.fits',\n",
       "       '/Users/aidan/Desktop/sl_project/img_cutouts/sl_jacobs/rband_dr2/no_cluster_scale/mask_works/fit_works/DESJ001542.7944-463610.9800_r.fits',\n",
       "       '/Users/aidan/Desktop/sl_project/img_cutouts/sl_jacobs/rband_dr2/no_cluster_scale/mask_works/fit_works/DESJ015815.3360-291218.0720_r.fits',\n",
       "       '/Users/aidan/Desktop/sl_project/img_cutouts/sl_jacobs/rband_dr2/no_cluster_scale/mask_works/fit_works/DESJ222051.9624-594927.0480_r.fits',\n",
       "       '/Users/aidan/Desktop/sl_project/img_cutouts/sl_jacobs/rband_dr2/no_cluster_scale/mask_works/fit_works/DESJ213217.6016-430535.0520_r.fits',\n",
       "       '/Users/aidan/Desktop/sl_project/img_cutouts/sl_jacobs/rband_dr2/no_cluster_scale/mask_works/fit_works/DESJ233459.1960-640406.9600_r.fits',\n",
       "       '/Users/aidan/Desktop/sl_project/img_cutouts/sl_jacobs/rband_dr2/no_cluster_scale/mask_works/fit_works/DESJ052833.3768-381141.8200_r.fits',\n",
       "       '/Users/aidan/Desktop/sl_project/img_cutouts/sl_jacobs/rband_dr2/no_cluster_scale/mask_works/fit_works/DESJ232956.1072-532837.7400_r.fits',\n",
       "       '/Users/aidan/Desktop/sl_project/img_cutouts/sl_jacobs/rband_dr2/no_cluster_scale/mask_works/fit_works/DESJ051013.1760-563754.1560_r.fits',\n",
       "       '/Users/aidan/Desktop/sl_project/img_cutouts/sl_jacobs/rband_dr2/no_cluster_scale/mask_works/fit_works/DESJ023648.0576+032129.9520_r.fits',\n",
       "       '/Users/aidan/Desktop/sl_project/img_cutouts/sl_jacobs/rband_dr2/no_cluster_scale/mask_works/fit_works/DESJ054302.0664-375237.2360_r.fits',\n",
       "       '/Users/aidan/Desktop/sl_project/img_cutouts/sl_jacobs/rband_dr2/no_cluster_scale/mask_works/fit_works/DESJ223851.0096-431730.2280_r.fits',\n",
       "       '/Users/aidan/Desktop/sl_project/img_cutouts/sl_jacobs/rband_dr2/no_cluster_scale/mask_works/fit_works/DESJ050600.5256-204900.4800_r.fits',\n",
       "       '/Users/aidan/Desktop/sl_project/img_cutouts/sl_jacobs/rband_dr2/no_cluster_scale/mask_works/fit_works/DESJ212512.0288-650426.6880_r.fits',\n",
       "       '/Users/aidan/Desktop/sl_project/img_cutouts/sl_jacobs/rband_dr2/no_cluster_scale/mask_works/fit_works/DESJ002456.9568-340053.2440_r.fits',\n",
       "       '/Users/aidan/Desktop/sl_project/img_cutouts/sl_jacobs/rband_dr2/no_cluster_scale/mask_works/fit_works/DESJ031418.6072-284156.3640_r.fits',\n",
       "       '/Users/aidan/Desktop/sl_project/img_cutouts/sl_jacobs/rband_dr2/no_cluster_scale/mask_works/fit_works/DESJ005212.8616-465026.8800_r.fits',\n",
       "       '/Users/aidan/Desktop/sl_project/img_cutouts/sl_jacobs/rband_dr2/no_cluster_scale/mask_works/fit_works/DESJ212447.1888-412815.7440_r.fits',\n",
       "       '/Users/aidan/Desktop/sl_project/img_cutouts/sl_jacobs/rband_dr2/no_cluster_scale/mask_works/fit_works/DESJ231111.6928-454658.1160_r.fits',\n",
       "       '/Users/aidan/Desktop/sl_project/img_cutouts/sl_jacobs/rband_dr2/no_cluster_scale/mask_works/fit_works/DESJ025330.8256-123903.1680_r.fits',\n",
       "       '/Users/aidan/Desktop/sl_project/img_cutouts/sl_jacobs/rband_dr2/no_cluster_scale/mask_works/fit_works/DESJ014831.5144-225127.8640_r.fits',\n",
       "       '/Users/aidan/Desktop/sl_project/img_cutouts/sl_jacobs/rband_dr2/no_cluster_scale/mask_works/fit_works/DESJ051603.1728-220847.1120_r.fits',\n",
       "       '/Users/aidan/Desktop/sl_project/img_cutouts/sl_jacobs/rband_dr2/no_cluster_scale/mask_works/fit_works/DESJ000316.3800-334804.3200_r.fits',\n",
       "       '/Users/aidan/Desktop/sl_project/img_cutouts/sl_jacobs/rband_dr2/no_cluster_scale/mask_works/fit_works/DESJ012503.5064-364558.9680_r.fits',\n",
       "       '/Users/aidan/Desktop/sl_project/img_cutouts/sl_jacobs/rband_dr2/no_cluster_scale/mask_works/fit_works/DESJ024551.4104-512951.0000_r.fits',\n",
       "       '/Users/aidan/Desktop/sl_project/img_cutouts/sl_jacobs/rband_dr2/no_cluster_scale/mask_works/fit_works/DESJ030516.7208-163613.1400_r.fits',\n",
       "       '/Users/aidan/Desktop/sl_project/img_cutouts/sl_jacobs/rband_dr2/no_cluster_scale/mask_works/fit_works/DESJ043756.7648-650216.2960_r.fits',\n",
       "       '/Users/aidan/Desktop/sl_project/img_cutouts/sl_jacobs/rband_dr2/no_cluster_scale/mask_works/fit_works/DESJ015843.6608-130132.8800_r.fits',\n",
       "       '/Users/aidan/Desktop/sl_project/img_cutouts/sl_jacobs/rband_dr2/no_cluster_scale/mask_works/fit_works/DESJ015216.3368-583842.3240_r.fits',\n",
       "       '/Users/aidan/Desktop/sl_project/img_cutouts/sl_jacobs/rband_dr2/no_cluster_scale/mask_works/fit_works/DESJ020107.9656-155117.0280_r.fits',\n",
       "       '/Users/aidan/Desktop/sl_project/img_cutouts/sl_jacobs/rband_dr2/no_cluster_scale/mask_works/fit_works/DESJ020229.0688-410519.2120_r.fits',\n",
       "       '/Users/aidan/Desktop/sl_project/img_cutouts/sl_jacobs/rband_dr2/no_cluster_scale/mask_works/fit_works/DESJ062019.0056-562858.3320_r.fits',\n",
       "       '/Users/aidan/Desktop/sl_project/img_cutouts/sl_jacobs/rband_dr2/no_cluster_scale/mask_works/fit_works/DESJ025051.7704-161007.7880_r.fits',\n",
       "       '/Users/aidan/Desktop/sl_project/img_cutouts/sl_jacobs/rband_dr2/no_cluster_scale/mask_works/fit_works/DESJ011408.3736-361313.5480_r.fits',\n",
       "       '/Users/aidan/Desktop/sl_project/img_cutouts/sl_jacobs/rband_dr2/no_cluster_scale/mask_works/fit_works/DESJ011357.1056-292439.2400_r.fits',\n",
       "       '/Users/aidan/Desktop/sl_project/img_cutouts/sl_jacobs/rband_dr2/no_cluster_scale/mask_works/fit_works/DESJ042218.2160-213245.8880_r.fits',\n",
       "       '/Users/aidan/Desktop/sl_project/img_cutouts/sl_jacobs/rband_dr2/no_cluster_scale/mask_works/fit_works/DESJ024700.1248-443211.0400_r.fits',\n",
       "       '/Users/aidan/Desktop/sl_project/img_cutouts/sl_jacobs/rband_dr2/no_cluster_scale/mask_works/fit_works/DESJ003727.0720-413149.9440_r.fits',\n",
       "       '/Users/aidan/Desktop/sl_project/img_cutouts/sl_jacobs/rband_dr2/no_cluster_scale/mask_works/fit_works/DESJ025243.2744-214533.7320_r.fits',\n",
       "       '/Users/aidan/Desktop/sl_project/img_cutouts/sl_jacobs/rband_dr2/no_cluster_scale/mask_works/fit_works/DESJ010158.0368-491738.1840_r.fits',\n",
       "       '/Users/aidan/Desktop/sl_project/img_cutouts/sl_jacobs/rband_dr2/no_cluster_scale/mask_works/fit_works/DESJ055424.2592-223806.1800_r.fits',\n",
       "       '/Users/aidan/Desktop/sl_project/img_cutouts/sl_jacobs/rband_dr2/no_cluster_scale/mask_works/fit_works/DESJ022014.3352-533510.8960_r.fits',\n",
       "       '/Users/aidan/Desktop/sl_project/img_cutouts/sl_jacobs/rband_dr2/no_cluster_scale/mask_works/fit_works/DESJ042909.0312-282616.8000_r.fits',\n",
       "       '/Users/aidan/Desktop/sl_project/img_cutouts/sl_jacobs/rband_dr2/no_cluster_scale/mask_works/fit_works/DESJ014556.3472+040229.0040_r.fits',\n",
       "       '/Users/aidan/Desktop/sl_project/img_cutouts/sl_jacobs/rband_dr2/no_cluster_scale/mask_works/fit_works/DESJ050921.3936-534212.6360_r.fits',\n",
       "       '/Users/aidan/Desktop/sl_project/img_cutouts/sl_jacobs/rband_dr2/no_cluster_scale/mask_works/fit_works/DESJ030647.2896-230434.8600_r.fits',\n",
       "       '/Users/aidan/Desktop/sl_project/img_cutouts/sl_jacobs/rband_dr2/no_cluster_scale/mask_works/fit_works/DESJ221912.3984-434835.1000_r.fits',\n",
       "       '/Users/aidan/Desktop/sl_project/img_cutouts/sl_jacobs/rband_dr2/no_cluster_scale/mask_works/fit_works/DESJ034527.9360-245918.5280_r.fits',\n",
       "       '/Users/aidan/Desktop/sl_project/img_cutouts/sl_jacobs/rband_dr2/no_cluster_scale/mask_works/fit_works/DESJ012227.2760-365426.5680_r.fits',\n",
       "       '/Users/aidan/Desktop/sl_project/img_cutouts/sl_jacobs/rband_dr2/no_cluster_scale/mask_works/fit_works/DESJ002510.1352-313927.1800_r.fits',\n",
       "       '/Users/aidan/Desktop/sl_project/img_cutouts/sl_jacobs/rband_dr2/no_cluster_scale/mask_works/fit_works/DESJ001310.1376-033545.4920_r.fits',\n",
       "       '/Users/aidan/Desktop/sl_project/img_cutouts/sl_jacobs/rband_dr2/no_cluster_scale/mask_works/fit_works/DESJ053003.2712-610942.4800_r.fits',\n",
       "       '/Users/aidan/Desktop/sl_project/img_cutouts/sl_jacobs/rband_dr2/no_cluster_scale/mask_works/fit_works/DESJ214915.3120-001251.5160_r.fits',\n",
       "       '/Users/aidan/Desktop/sl_project/img_cutouts/sl_jacobs/rband_dr2/no_cluster_scale/mask_works/fit_works/DESJ011607.3128-281224.8760_r.fits',\n",
       "       '/Users/aidan/Desktop/sl_project/img_cutouts/sl_jacobs/rband_dr2/no_cluster_scale/mask_works/fit_works/DESJ022930.9864-290816.2960_r.fits'],\n",
       "      dtype='<U136')"
      ]
     },
     "execution_count": 146,
     "metadata": {},
     "output_type": "execute_result"
    }
   ],
   "source": [
    "files"
   ]
  },
  {
   "cell_type": "code",
   "execution_count": null,
   "metadata": {},
   "outputs": [],
   "source": []
  }
 ],
 "metadata": {
  "kernelspec": {
   "display_name": "Python [conda env:gal-gal-sel]",
   "language": "python",
   "name": "conda-env-gal-gal-sel-py"
  },
  "language_info": {
   "codemirror_mode": {
    "name": "ipython",
    "version": 3
   },
   "file_extension": ".py",
   "mimetype": "text/x-python",
   "name": "python",
   "nbconvert_exporter": "python",
   "pygments_lexer": "ipython3",
   "version": "3.10.4"
  }
 },
 "nbformat": 4,
 "nbformat_minor": 4
}
