{
 "cells": [
  {
   "cell_type": "markdown",
   "metadata": {},
   "source": [
    "## Testing Image Segmentation with Napari"
   ]
  },
  {
   "cell_type": "code",
   "execution_count": 1,
   "metadata": {},
   "outputs": [],
   "source": [
    "# math, array manipulation, etc.\n",
    "import numpy as np\n",
    "\n",
    "# timing\n",
    "from timeit import default_timer\n",
    "\n",
    "import astropy.io.fits as fits\n",
    "from astropy.table import Table                    # Table data structure\n",
    "import astropy.units as u\n",
    "\n",
    "# necessary utilities from scipy, astropy and photutils\n",
    "from scipy.optimize import differential_evolution\n",
    "from scipy.ndimage import maximum_filter, gaussian_filter\n",
    "from astropy.modeling import functional_models\n",
    "from astropy.convolution import convolve\n",
    "from photutils import background\n",
    "\n",
    "# plots\n",
    "import matplotlib.pyplot as plt\n",
    "from mpl_toolkits.axes_grid1 import make_axes_locatable\n",
    "\n",
    "#%matplotlib inline\n",
    "\n",
    "# MCMC sampling package\n",
    "import emcee\n",
    "\n",
    "import os\n",
    "\n",
    "import sys\n",
    "\n",
    "from photutils.background import Background2D\n",
    "from astropy.stats import SigmaClip\n",
    "from photutils.background import StdBackgroundRMS\n",
    "from photutils.segmentation import deblend_sources, SegmentationImage, detect_sources\n",
    "\n",
    "from astropy.convolution import Gaussian2DKernel\n",
    "from astropy.stats import gaussian_fwhm_to_sigma\n",
    "\n",
    "import napari"
   ]
  },
  {
   "cell_type": "code",
   "execution_count": 2,
   "metadata": {},
   "outputs": [],
   "source": [
    "# the following commands make plots look better\n",
    "def plot_prettier(dpi=200, fontsize=10): \n",
    "    plt.rcParams['figure.dpi']= dpi\n",
    "    plt.rc(\"savefig\", dpi=dpi)\n",
    "    plt.rc('font', size=fontsize)\n",
    "    plt.rc('xtick', direction='in')\n",
    "    plt.rc('ytick', direction='in')\n",
    "    plt.rc('xtick.major', pad=5) \n",
    "    plt.rc('xtick.minor', pad=5)\n",
    "    plt.rc('ytick.major', pad=5) \n",
    "    plt.rc('ytick.minor', pad=5)\n",
    "    plt.rc('lines', dotted_pattern = [2., 2.])\n",
    "    # if you don't have LaTeX installed on your laptop and this statement \n",
    "    # generates error, comment it out\n",
    "    plt.rc('text', usetex=True)\n",
    "    \n",
    "plot_prettier()"
   ]
  },
  {
   "cell_type": "code",
   "execution_count": 3,
   "metadata": {},
   "outputs": [],
   "source": [
    "def create_mask(img_r, img_g, num=3):\n",
    "    '''\n",
    "    Takes a raw input fits image and constructs a mask to filter out light \n",
    "    from other sources apart from the lens/galaxy. Returns the masked image,\n",
    "    where pixel values from other sources are set to 0.\n",
    "    \n",
    "    '''\n",
    "    \n",
    "    # construct a background image w/ background noise\n",
    "    bkg = Background2D(img_g, box_size=5)\n",
    "    bkg_img = bkg.background\n",
    "    \n",
    "    # calculate RMS of each pixel, used to calculate threshold for source identification\n",
    "    sigma_clip = SigmaClip(sigma=3.0, maxiters=10)\n",
    "    bkgrms = StdBackgroundRMS(sigma_clip)\n",
    "    bkgrms_img = bkgrms(img_g) \n",
    "\n",
    "    # map of thresholds over which sources are detected\n",
    "    threshold = bkg_img + (0.5 * bkgrms_img)  \n",
    "    \n",
    "    # source detection\n",
    "    sigma = 3.0 * gaussian_fwhm_to_sigma  # FWHM = 3.\n",
    "    kernel = Gaussian2DKernel(sigma, x_size=3, y_size=3).normalize()\n",
    "    segm = detect_sources(img_g, threshold, 5, kernel)\n",
    "    \n",
    "    # deblending sources, looking for saddles between peaks in flux\n",
    "    segm_deblend = deblend_sources(img_g, segm, npixels=5\n",
    "                                   , nlevels=32, contrast=0.001)\n",
    "                \n",
    "    label = segm_deblend.data[(segm_deblend.data.shape[0]//2, segm_deblend.data.shape[1]//2)]\n",
    "    other_inds = np.delete(np.arange(1, segm_deblend.nlabels+1), label-1)\n",
    "    \n",
    "    deblend_copy = segm_deblend.data.copy()\n",
    "    source = (deblend_copy == label)\n",
    "    \n",
    "    # get pixels from all other sources\n",
    "    deblend_copy2 = segm_deblend.copy()\n",
    "    deblend_copy2.keep_labels(other_inds)\n",
    "\n",
    "    segm_dilated_arr = maximum_filter(deblend_copy2.data, num)\n",
    "    segm_dilated_arr[deblend_copy2.data != 0] = deblend_copy2.data[deblend_copy2.data != 0]\n",
    "        \n",
    "    # label central source, which is the lens/galaxy\n",
    "    segm_dilated_arr[source] = 10000\n",
    "    \n",
    "    segm_dilated = SegmentationImage(segm_dilated_arr)\n",
    "    \n",
    "    other_inds = np.delete(segm_dilated.labels, -1)\n",
    "        \n",
    "    # get pixels from all other sources\n",
    "    segm_dilated.keep_labels(other_inds)\n",
    "    \n",
    "    mask = (segm_dilated.data > 0)\n",
    "\n",
    "    # make values of those pixels 0 in both img_gal and uncertainties\n",
    "    gal_copy_g = img_r.copy()\n",
    "    gal_copy_g[mask] = 0\n",
    "    gal_copy_r = img_g.copy()\n",
    "    gal_copy_r[mask] = 0\n",
    "    \n",
    "    return mask, gal_copy_r, gal_copy_g"
   ]
  },
  {
   "cell_type": "code",
   "execution_count": 4,
   "metadata": {},
   "outputs": [],
   "source": [
    "def read_fits_table(filename):\n",
    "    '''\n",
    "    reads and returns data in a table from a FITS file\n",
    "    '''\n",
    "    hdu = fits.open(filename)\n",
    "    data = Table(hdu[1].data)   # second index of the hdu corresponds to the data in my astropy table files\n",
    "    hdu.close()\n",
    "    \n",
    "    return data\n",
    "\n",
    "def read_fits_image(filename):\n",
    "    '''\n",
    "    reads and returns an image from a FITS file\n",
    "    '''\n",
    "    hdu = fits.open(filename)\n",
    "    data = hdu[0].data\n",
    "    header = hdu[0].header \n",
    "    hdu.close()\n",
    "    \n",
    "    return data\n",
    "\n",
    "def get_files(path):\n",
    "    files = np.array(os.listdir(path))\n",
    "    finds = [i for i, f in enumerate(files) if '.fits' in f]\n",
    "    files = files[finds]\n",
    "    return files"
   ]
  },
  {
   "cell_type": "code",
   "execution_count": 5,
   "metadata": {},
   "outputs": [
    {
     "name": "stderr",
     "output_type": "stream",
     "text": [
      "WARNING: AstropyDeprecationWarning: \"kernel\" was deprecated in version 1.5 and will be removed in a future version. Instead, if filtering is desired, please input a convolved image directly into the \"data\" parameter. [warnings]\n",
      "/Users/aidan/opt/anaconda3/envs/gal-gal-sel/lib/python3.10/site-packages/tqdm/auto.py:22: TqdmWarning: IProgress not found. Please update jupyter and ipywidgets. See https://ipywidgets.readthedocs.io/en/stable/user_install.html\n",
      "  from .autonotebook import tqdm as notebook_tqdm\n",
      "100%|███████████████████████████████████████████| 28/28 [00:00<00:00, 81.84it/s]\n"
     ]
    }
   ],
   "source": [
    "# read test image\n",
    "\n",
    "jr_path = '/Users/aidan/Desktop/sl_project/img_cutouts/sl_jacobs/rband_dr2/'\n",
    "jg_path = '/Users/aidan/Desktop/sl_project/img_cutouts/sl_jacobs/gband_dr2/'\n",
    "\n",
    "img_r = read_fits_image(jr_path + 'DESJ001424.2784+004145.4560_r.fits')\n",
    "img_g = read_fits_image(jg_path + 'DESJ001424.2784+004145.4560_g.fits')\n",
    "\n",
    "mask, gal_img_r, gal_img_g = create_mask(img_r, img_g)\n"
   ]
  },
  {
   "cell_type": "code",
   "execution_count": 6,
   "metadata": {},
   "outputs": [],
   "source": [
    "# napari segmentation test\n",
    "\n",
    "### pseudocode\n",
    "# create two 'labels' where one is the raw image and the other is the initial mask\n",
    "# use the paintbrush tool to add onto the mask label\n",
    "from skimage import data"
   ]
  },
  {
   "cell_type": "code",
   "execution_count": 7,
   "metadata": {},
   "outputs": [],
   "source": [
    "\n",
    "# create the viewer and add the coins image\n",
    "viewer = napari.view_image(img_r, name='r-band')\n",
    "# add the labels\n",
    "labels_layer = viewer.add_labels(mask, name='segmentation')\n"
   ]
  },
  {
   "cell_type": "code",
   "execution_count": 19,
   "metadata": {},
   "outputs": [],
   "source": [
    "viewer = napari.view_image(img_r)"
   ]
  },
  {
   "cell_type": "code",
   "execution_count": 7,
   "metadata": {},
   "outputs": [
    {
     "name": "stderr",
     "output_type": "stream",
     "text": [
      "/Users/aidan/opt/anaconda3/envs/gal-gal-sel/lib/python3.10/site-packages/napari/settings/_base.py:58: UserWarning: Restart required for this change to take effect.\n",
      "  warn(\n"
     ]
    }
   ],
   "source": [
    "from napari.settings import get_settings #; print(get_settings().config_path)\n",
    "\n",
    "settings = get_settings()\n",
    "\n",
    "settings.experimental.octree = False\n"
   ]
  },
  {
   "cell_type": "code",
   "execution_count": 24,
   "metadata": {},
   "outputs": [
    {
     "name": "stdout",
     "output_type": "stream",
     "text": [
      "Traceback (most recent call last):\n",
      "  File \"/Users/aidan/opt/anaconda3/envs/gal-gal-sel/bin/napari\", line 10, in <module>\n",
      "    sys.exit(main())\n",
      "  File \"/Users/aidan/opt/anaconda3/envs/gal-gal-sel/lib/python3.10/site-packages/napari/__main__.py\", line 446, in main\n",
      "    _run()\n",
      "  File \"/Users/aidan/opt/anaconda3/envs/gal-gal-sel/lib/python3.10/site-packages/napari/__main__.py\", line 311, in _run\n",
      "    viewer._window._qt_viewer._qt_open(\n",
      "  File \"/Users/aidan/opt/anaconda3/envs/gal-gal-sel/lib/python3.10/site-packages/napari/_qt/qt_viewer.py\", line 754, in _qt_open\n",
      "    self.viewer.open(\n",
      "  File \"/Users/aidan/opt/anaconda3/envs/gal-gal-sel/lib/python3.10/site-packages/napari/components/viewer_model.py\", line 941, in open\n",
      "    layers = self._open_or_raise_error(\n",
      "  File \"/Users/aidan/opt/anaconda3/envs/gal-gal-sel/lib/python3.10/site-packages/napari/components/viewer_model.py\", line 1012, in _open_or_raise_error\n",
      "    raise NoAvailableReaderError(\n",
      "napari.errors.reader_errors.NoAvailableReaderError: No plugin found capable of reading reset.\n"
     ]
    }
   ],
   "source": [
    "! napari reset"
   ]
  },
  {
   "cell_type": "code",
   "execution_count": null,
   "metadata": {},
   "outputs": [],
   "source": []
  }
 ],
 "metadata": {
  "kernelspec": {
   "display_name": "Python [conda env:gal-gal-sel]",
   "language": "python",
   "name": "conda-env-gal-gal-sel-py"
  },
  "language_info": {
   "codemirror_mode": {
    "name": "ipython",
    "version": 3
   },
   "file_extension": ".py",
   "mimetype": "text/x-python",
   "name": "python",
   "nbconvert_exporter": "python",
   "pygments_lexer": "ipython3",
   "version": "3.10.4"
  }
 },
 "nbformat": 4,
 "nbformat_minor": 4
}
