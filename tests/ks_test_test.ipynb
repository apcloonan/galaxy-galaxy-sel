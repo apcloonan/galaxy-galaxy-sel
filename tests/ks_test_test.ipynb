{
 "cells": [
  {
   "cell_type": "code",
   "execution_count": 1,
   "metadata": {},
   "outputs": [],
   "source": [
    "# Standard python imports\n",
    "%matplotlib inline\n",
    "\n",
    "from os.path import join\n",
    "import glob\n",
    "import inspect\n",
    "from importlib import reload\n",
    "import warnings\n",
    "\n",
    "from matplotlib.colors import LogNorm\n",
    "\n",
    "import numpy as np\n",
    "import pylab as plt\n",
    "import pandas as pd\n",
    "\n",
    "import seaborn as sns\n",
    "\n",
    "import warnings\n",
    "warnings.filterwarnings(\"ignore\")\n",
    "\n",
    "# data structures from astropy\n",
    "import astropy.io.fits as fits\n",
    "from astropy.table import Table, vstack\n",
    "\n",
    "# astronomical image fitting software Imfit, wrapped in Python\n",
    "# https://github.com/perwin/pyimfit\n",
    "# https://pyimfit.readthedocs.io/en/latest/\n",
    "import pyimfit\n",
    "\n",
    "# MCMC sampling package\n",
    "import emcee\n",
    "\n",
    "# necessary utilities from scipy, astropy, and photutils\n",
    "from scipy.ndimage import maximum_filter\n",
    "from scipy.stats import multivariate_normal\n",
    "from scipy.special import gammainc, gamma\n",
    "from scipy.optimize import minimize_scalar\n",
    "from astropy.stats import SigmaClip, gaussian_fwhm_to_sigma\n",
    "from astropy.convolution import Gaussian2DKernel\n",
    "from photutils.background import Background2D, StdBackgroundRMS\n",
    "from photutils.segmentation import detect_sources, SegmentationImage, deblend_sources\n",
    "\n",
    "# plots\n",
    "import matplotlib.pyplot as plt\n",
    "from matplotlib import rc\n",
    "from mpl_toolkits.axes_grid1 import make_axes_locatable\n",
    "\n",
    "import sys\n",
    "sys.path.append('/Users/aidan/Desktop/sl_project/galaxy-galaxy-sel/')\n",
    "\n",
    "from imfit_mcmc import SersicMCMC"
   ]
  },
  {
   "cell_type": "code",
   "execution_count": 2,
   "metadata": {},
   "outputs": [],
   "source": [
    "\n",
    "# the following commands make plots look better\n",
    "def plot_prettier(dpi=200, fontsize=10): \n",
    "    plt.rcParams['figure.dpi']= dpi\n",
    "    plt.rc(\"savefig\", dpi=dpi)\n",
    "    plt.rc('font', size=fontsize)\n",
    "    plt.rc('xtick', direction='in')\n",
    "    plt.rc('ytick', direction='in')\n",
    "    plt.rc('xtick.major', pad=5) \n",
    "    plt.rc('xtick.minor', pad=5)\n",
    "    plt.rc('ytick.major', pad=5) \n",
    "    plt.rc('ytick.minor', pad=5)\n",
    "    plt.rc('lines', dotted_pattern = [2., 2.])\n",
    "    # if you don't have LaTeX installed on your laptop and this statement \n",
    "    # generates error, comment it out\n",
    "    rc('font', **{'family': 'serif', 'serif': ['Computer Modern']})\n",
    "    rc('text', usetex=True)\n",
    "    \n",
    "plot_prettier()"
   ]
  },
  {
   "cell_type": "code",
   "execution_count": 3,
   "metadata": {},
   "outputs": [],
   "source": [
    "def read_fits_table(filename):\n",
    "    '''\n",
    "    reads and returns data in a table from a FITS file\n",
    "    '''\n",
    "    hdu = fits.open(filename)\n",
    "    data = Table(hdu[1].data)   # second index of the hdu corresponds to the data in my astropy table files\n",
    "    hdu.close()\n",
    "    \n",
    "    return data\n",
    "\n",
    "def read_fits_image(filename):\n",
    "    '''\n",
    "    reads and returns an image from a FITS file\n",
    "    '''\n",
    "    hdu = fits.open(filename)\n",
    "    data = hdu[0].data\n",
    "    header = hdu[0].header \n",
    "    hdu.close()\n",
    "    \n",
    "    return data"
   ]
  },
  {
   "cell_type": "code",
   "execution_count": 70,
   "metadata": {},
   "outputs": [],
   "source": [
    "# get table of redmagic data\n",
    "des_data = read_fits_table('/Users/aidan/Desktop/sl_project/results/redmagic_4kqf_test.fits')\n",
    "\n",
    "sl_data98 = read_fits_table('/Users/aidan/Desktop/sl_project/results/fitting_98lenses_test.fits')\n",
    "sl_se_data98 = pd.read_csv('/Users/aidan/Desktop/sl_project/catalogs/jacobs2019_aidan_cut_dr2.csv')\n",
    "\n",
    "sl_data505 = pd.read_csv('/Users/aidan/Desktop/sl_project/catalogs/jacobs2019_dr2.csv')"
   ]
  },
  {
   "cell_type": "code",
   "execution_count": 71,
   "metadata": {},
   "outputs": [],
   "source": [
    "# DES magnitudes\n",
    "des_r = des_data['mag_r']\n",
    "des_g = des_data['mag_g']\n",
    "\n",
    "sl98_r = sl_data98['mag_r']\n",
    "sl98_g = sl_data98['mag_g']\n",
    "\n",
    "sl505_r = sl_data505['mag_auto_r']\n",
    "sl505_g = sl_data505['mag_auto_g']\n",
    "\n",
    "# DES colors\n",
    "des_gr = des_g - des_r\n",
    "sl98_gr = sl98_g - sl98_r\n",
    "sl505_gr = sl505_g - sl505_r"
   ]
  },
  {
   "cell_type": "code",
   "execution_count": 72,
   "metadata": {},
   "outputs": [],
   "source": [
    "\n",
    "des_filt = (np.isfinite(des_r) & np.isfinite(des_g) & np.isfinite(des_gr))\n",
    "des_r_filt = des_r[des_filt]\n",
    "des_g_filt = des_g[des_filt]\n",
    "des_gr_filt = des_gr[des_filt]\n",
    "\n",
    "des_ellip_filt = des_data['er'][des_filt]\n",
    "\n",
    "# DES Sersic photometry parameters\n",
    "\n",
    "plate_scale = 0.263                                 # arcsec per pixel\n",
    "\n",
    "des_nr = des_data['nr'][des_filt]                   # Sersic index\n",
    "des_rr = des_data['Rr'][des_filt] * plate_scale     # half-light radius (in arcsec)\n",
    "des_ng = des_data['ng'][des_filt]\n",
    "des_rg = des_data['Rg'][des_filt] * plate_scale\n",
    "\n",
    "sl_nr = sl_data98['nr']                               # Sersic index\n",
    "sl_rr = sl_data98['Rr'] * plate_scale                 # half-light radius (in arcsec)\n",
    "sl_ng = sl_data98['ng']\n",
    "sl_rg = sl_data98['Rg'] * plate_scale\n",
    "\n",
    "sl_ellip = sl_data98['er']\n",
    "\n",
    "# residual flux values\n",
    "# this still needs to be scaled with uncertainty, which I need to implement a calculation for\n",
    "\n",
    "des_resflux_r = des_data['obs_flux_35pm3_r'] - des_data['mod_flux_35pm3_r']\n",
    "des_resflux_g = des_data['obs_flux_35pm3_g'] - des_data['mod_flux_35pm3_g']\n",
    "\n",
    "sl_resflux_r = (sl_data98['obs_flux_35pm3_r'] - sl_data98['mod_flux_35pm3_r']) #/ sl_data98['mod_flux_35pm3_err_r']\n",
    "sl_resflux_g = (sl_data98['obs_flux_35pm3_g'] - sl_data98['mod_flux_35pm3_g']) #/ sl_data98['mod_flux_35pm3_err_g']\n"
   ]
  },
  {
   "cell_type": "code",
   "execution_count": 73,
   "metadata": {},
   "outputs": [
    {
     "data": {
      "text/plain": [
       "Ks_2sampResult(statistic=0.2645184389545292, pvalue=2.1437561149584283e-06)"
      ]
     },
     "execution_count": 73,
     "metadata": {},
     "output_type": "execute_result"
    }
   ],
   "source": [
    "from scipy.stats import ks_2samp\n",
    "\n",
    "ks_2samp(des_nr, sl_nr)"
   ]
  },
  {
   "cell_type": "code",
   "execution_count": 74,
   "metadata": {},
   "outputs": [
    {
     "data": {
      "text/plain": [
       "Ks_2sampResult(statistic=0.5303616183315432, pvalue=0.0)"
      ]
     },
     "execution_count": 74,
     "metadata": {},
     "output_type": "execute_result"
    }
   ],
   "source": [
    "ks_2samp(des_rr, sl_rr)"
   ]
  },
  {
   "cell_type": "code",
   "execution_count": 75,
   "metadata": {},
   "outputs": [
    {
     "data": {
      "text/plain": [
       "Ks_2sampResult(statistic=0.4950948800572861, pvalue=0.0)"
      ]
     },
     "execution_count": 75,
     "metadata": {},
     "output_type": "execute_result"
    }
   ],
   "source": [
    "ks_2samp(des_ng, sl_ng)"
   ]
  },
  {
   "cell_type": "code",
   "execution_count": 76,
   "metadata": {},
   "outputs": [
    {
     "data": {
      "text/plain": [
       "Ks_2sampResult(statistic=0.2577873254564984, pvalue=4.302881795426039e-06)"
      ]
     },
     "execution_count": 76,
     "metadata": {},
     "output_type": "execute_result"
    }
   ],
   "source": [
    "ks_2samp(des_rg, sl_rg)"
   ]
  },
  {
   "cell_type": "code",
   "execution_count": 77,
   "metadata": {},
   "outputs": [
    {
     "data": {
      "text/plain": [
       "Ks_2sampResult(statistic=0.2209591836734694, pvalue=0.00013924723820057938)"
      ]
     },
     "execution_count": 77,
     "metadata": {},
     "output_type": "execute_result"
    }
   ],
   "source": [
    "ks_2samp(des_r, sl98_r)"
   ]
  },
  {
   "cell_type": "code",
   "execution_count": 78,
   "metadata": {},
   "outputs": [
    {
     "data": {
      "text/plain": [
       "Ks_2sampResult(statistic=0.25407142857142856, pvalue=6.253968968361612e-06)"
      ]
     },
     "execution_count": 78,
     "metadata": {},
     "output_type": "execute_result"
    }
   ],
   "source": [
    "ks_2samp(des_g, sl98_g)"
   ]
  },
  {
   "cell_type": "code",
   "execution_count": 79,
   "metadata": {},
   "outputs": [
    {
     "data": {
      "text/plain": [
       "Ks_2sampResult(statistic=0.1678469387755102, pvalue=0.007965830623416048)"
      ]
     },
     "execution_count": 79,
     "metadata": {},
     "output_type": "execute_result"
    }
   ],
   "source": [
    "ks_2samp(des_gr, sl98_gr)"
   ]
  },
  {
   "cell_type": "code",
   "execution_count": 80,
   "metadata": {},
   "outputs": [
    {
     "data": {
      "text/plain": [
       "Ks_2sampResult(statistic=0.13243823845327604, pvalue=0.06347380250682833)"
      ]
     },
     "execution_count": 80,
     "metadata": {},
     "output_type": "execute_result"
    }
   ],
   "source": [
    "ks_2samp(des_ellip_filt, sl_ellip)"
   ]
  },
  {
   "cell_type": "code",
   "execution_count": null,
   "metadata": {},
   "outputs": [],
   "source": []
  }
 ],
 "metadata": {
  "kernelspec": {
   "display_name": "Python 3",
   "language": "python",
   "name": "python3"
  },
  "language_info": {
   "codemirror_mode": {
    "name": "ipython",
    "version": 3
   },
   "file_extension": ".py",
   "mimetype": "text/x-python",
   "name": "python",
   "nbconvert_exporter": "python",
   "pygments_lexer": "ipython3",
   "version": "3.7.6"
  }
 },
 "nbformat": 4,
 "nbformat_minor": 4
}
