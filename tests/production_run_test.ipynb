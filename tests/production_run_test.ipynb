{
 "cells": [
  {
   "cell_type": "markdown",
   "metadata": {},
   "source": [
    "## production_run_test\n",
    "\n",
    "Writing and testing the functionality of scripts which will be used to carry out a 'production run,' where single-component Sérsic profiles will be fit to each galaxy in multiple filters via MCMC sampling."
   ]
  },
  {
   "cell_type": "code",
   "execution_count": 1,
   "metadata": {},
   "outputs": [
    {
     "name": "stdout",
     "output_type": "stream",
     "text": [
      "3.10.4 (main, Mar 31 2022, 03:38:35) [Clang 12.0.0 ]\n"
     ]
    },
    {
     "name": "stderr",
     "output_type": "stream",
     "text": [
      "/Users/aidan/opt/anaconda3/envs/gal-gal-sel/lib/python3.10/site-packages/scipy/__init__.py:146: UserWarning: A NumPy version >=1.16.5 and <1.23.0 is required for this version of SciPy (detected version 1.23.1\n",
      "  warnings.warn(f\"A NumPy version >={np_minversion} and <{np_maxversion}\"\n"
     ]
    }
   ],
   "source": [
    "# math, array manipulation, etc.\n",
    "import numpy as np\n",
    "\n",
    "import os\n",
    "import sys\n",
    "print(sys.version)\n",
    "\n",
    "# timing\n",
    "from timeit import default_timer\n",
    "from tqdm import tqdm\n",
    "\n",
    "import pandas as pd\n",
    "\n",
    "import astropy.io.fits as fits\n",
    "from astropy.table import Table                    # Table data structure\n",
    "import astropy.units as u\n",
    "\n",
    "# necessary utilities from scipy, astropy and photutils\n",
    "from scipy.optimize import differential_evolution\n",
    "from scipy.ndimage import maximum_filter, gaussian_filter\n",
    "from astropy.modeling import functional_models\n",
    "from astropy.convolution import convolve, Gaussian2DKernel\n",
    "from astropy.stats import gaussian_fwhm_to_sigma, SigmaClip\n",
    "from photutils.background import Background2D, StdBackgroundRMS\n",
    "from photutils.segmentation import deblend_sources, SegmentationImage, detect_sources\n",
    "\n",
    "# plots\n",
    "import matplotlib.pyplot as plt\n",
    "\n",
    "#%matplotlib inline\n",
    "\n",
    "# MCMC sampling package\n",
    "import emcee\n",
    "\n",
    "# SEP\n",
    "import sep"
   ]
  },
  {
   "cell_type": "code",
   "execution_count": 2,
   "metadata": {},
   "outputs": [],
   "source": [
    "sys.path.append('/Users/aidan/Desktop/sl_project/galaxy-galaxy-sel/')\n",
    "\n",
    "from lensphoto import LensPhoto, fwhm2sigma\n",
    "\n",
    "from aidan_utils import plot_prettier, read_fits_image, get_fits_files\n",
    "\n",
    "# only need to run once\n",
    "plot_prettier()\n"
   ]
  },
  {
   "cell_type": "code",
   "execution_count": 3,
   "metadata": {},
   "outputs": [],
   "source": [
    "from astropy.io.fits import HDUList\n",
    "\n",
    "from astroquery.vizier import Vizier\n",
    "\n",
    "vsearch = Vizier\n",
    "\n",
    "# extract table from the Jacobs, et al. (2019) catalog\n",
    "\n",
    "vsearch.ROW_LIMIT = -1 # select all rows, not just default 50 first rows\n",
    "vsearch.columns=['*']\n",
    "#vsearch.columns=['Cand', 'objID', 'RAJ2000', 'DEJ2000', 'Grade', 'z']\n",
    "\n",
    "sl_jacobs_catalog = vsearch.get_catalogs('J/ApJS/243/17/table1')\n",
    "sl_table = sl_jacobs_catalog[0]"
   ]
  },
  {
   "cell_type": "code",
   "execution_count": 4,
   "metadata": {},
   "outputs": [],
   "source": [
    "jr_path = '/Users/aidan/Desktop/sl_project/img_cutouts/sl_jacobs/rband_dr2/no_cluster_scale/mask_works/fit_works/'\n",
    "jg_path = '/Users/aidan/Desktop/sl_project/img_cutouts/sl_jacobs/gband_dr2/no_cluster_scale/mask_works/fit_works/'\n",
    "\n",
    "files_r = get_fits_files(jr_path)\n",
    "files_g = get_fits_files(jg_path)\n",
    "\n",
    "index = 19\n",
    "\n",
    "cand, img_r = read_fits_image(files_r[index])\n",
    "cand, img_g = read_fits_image(files_g[index])\n",
    "\n",
    "#print(files_r[index])\n",
    "#print(files_g[index])\n",
    "\n",
    "# test putting multiple images into one HDU\n",
    "# then try it out with the two\n",
    "# also try to compile photometric redshift (with Vizier, see simple_csv_creator)"
   ]
  },
  {
   "cell_type": "code",
   "execution_count": 5,
   "metadata": {},
   "outputs": [],
   "source": [
    "hdulist_r = HDUList()\n",
    "hdulist_g = HDUList()\n",
    "\n",
    "for i in np.arange(len(files_r)):\n",
    "    \n",
    "    file_r, file_g = files_r[i], files_g[i]\n",
    "    \n",
    "    hdu_r = fits.open(file_r)[0]\n",
    "    hdu_g = fits.open(file_g)[0]\n",
    "    \n",
    "    cand = file_r[-34:-26] + file_r[-19:-14]\n",
    "    \n",
    "    hdu_r.header['cand'] = cand\n",
    "    hdu_g.header['cand'] = cand\n",
    "    \n",
    "    assert (cand == file_g[-34:-26] + file_g[-19:-14])\n",
    "    \n",
    "    zi = sl_table[sl_table['Cand'] == cand]['z'][0]\n",
    "    hdu_r.header['gphoto_z'] = zi\n",
    "    hdu_g.header['gphoto_z'] = zi\n",
    "    \n",
    "    hdulist_r.append(hdu_r)\n",
    "    hdulist_g.append(hdu_g)\n",
    "    \n",
    "hdulist_r.writeto('/Users/aidan/Desktop/sl_project/production/lens_images_r.fits', overwrite=True)\n",
    "hdulist_g.writeto('/Users/aidan/Desktop/sl_project/production/lens_images_g.fits', overwrite=True)"
   ]
  },
  {
   "cell_type": "markdown",
   "metadata": {},
   "source": [
    "#### Testing"
   ]
  },
  {
   "cell_type": "raw",
   "metadata": {},
   "source": [
    "img_r = hdulist_r[0].data\n",
    "img_g = hdulist_g[0].data\n",
    "\n",
    "desid = hdulist_r[0].header['cand']\n",
    "photoz = hdulist_r[0].header['gphoto_z']\n",
    "\n",
    "# convert fwhm in arcsec to 1-sigma\n",
    "\n",
    "fwhm_r = 0.95\n",
    "fwhm_g = 1.11\n",
    "\n",
    "std_psf_r = fwhm2sigma(fwhm_r)\n",
    "std_psf_g = fwhm2sigma(fwhm_g)\n"
   ]
  },
  {
   "cell_type": "raw",
   "metadata": {},
   "source": [
    "\n",
    "photo = LensPhoto(img_r = img_r, img_g = img_g\n",
    "                  , std_psf_r = std_psf_r, std_psf_g = std_psf_g\n",
    "                  , desid = desid\n",
    "                 )\n",
    "\n",
    "run, dist = photo.mcmc_run()\n",
    "samples = photo.dist.reshape(-1, photo.ndim)\n",
    "\n",
    "rmag_arr, gmag_arr = photo.mag_arrays()\n"
   ]
  },
  {
   "cell_type": "code",
   "execution_count": 6,
   "metadata": {},
   "outputs": [
    {
     "name": "stdout",
     "output_type": "stream",
     "text": [
      "---------------------------------\n",
      "\n",
      "Now modeling galaxy DESJ0003-3348\n",
      "\n",
      "---------------------------------\n"
     ]
    },
    {
     "name": "stderr",
     "output_type": "stream",
     "text": [
      "/Users/aidan/Desktop/sl_project/galaxy-galaxy-sel/lensphoto.py:215: RuntimeWarning: invalid value encountered in sqrt\n",
      "  std_gal = np.sqrt(num * img_gal)\n",
      "/Users/aidan/Desktop/sl_project/galaxy-galaxy-sel/lensphoto.py:215: RuntimeWarning: invalid value encountered in sqrt\n",
      "  std_gal = np.sqrt(num * img_gal)\n",
      "WARNING: AstropyDeprecationWarning: \"kernel\" was deprecated in version 1.5 and will be removed in a future version. Instead, if filtering is desired, please input a convolved image directly into the \"data\" parameter. [lensphoto]\n"
     ]
    },
    {
     "data": {
      "application/vnd.jupyter.widget-view+json": {
       "model_id": "c1c02ed409f84a8b873ff46389b5c545",
       "version_major": 2,
       "version_minor": 0
      },
      "text/plain": [
       "  0%|          | 0/7 [00:00<?, ?it/s]"
      ]
     },
     "metadata": {},
     "output_type": "display_data"
    },
    {
     "name": "stderr",
     "output_type": "stream",
     "text": [
      "WARNING: AstropyDeprecationWarning: \"kernel\" was deprecated in version 1.5 and will be removed in a future version. Instead, if filtering is desired, please input a convolved image directly into the \"data\" parameter. [lensphoto]\n"
     ]
    },
    {
     "data": {
      "application/vnd.jupyter.widget-view+json": {
       "model_id": "ce78360a373d47728ed49a6bacd3681e",
       "version_major": 2,
       "version_minor": 0
      },
      "text/plain": [
       "  0%|          | 0/10 [00:00<?, ?it/s]"
      ]
     },
     "metadata": {},
     "output_type": "display_data"
    },
    {
     "name": "stderr",
     "output_type": "stream",
     "text": [
      "  2%|▉                                         | 11/500 [00:03<02:13,  3.67it/s]Traceback (most recent call last):\n",
      "  File \"/Users/aidan/opt/anaconda3/envs/gal-gal-sel/lib/python3.10/site-packages/emcee/ensemble.py\", line 624, in __call__\n",
      "    return self.f(x, *self.args, **self.kwargs)\n",
      "  File \"/Users/aidan/Desktop/sl_project/galaxy-galaxy-sel/lensphoto.py\", line 469, in log_posterior\n",
      "    loglike_g = -0.5 * self.imfit_g.computeFitStatistic(new_params_g)\n",
      "  File \"/Users/aidan/opt/anaconda3/envs/gal-gal-sel/lib/python3.10/site-packages/pyimfit/fitting.py\", line 669, in computeFitStatistic\n",
      "    return self._modelObjectWrapper.computeFitStatistic(newParams)\n",
      "KeyboardInterrupt\n",
      "  2%|▉                                         | 11/500 [00:03<02:25,  3.36it/s]"
     ]
    },
    {
     "name": "stdout",
     "output_type": "stream",
     "text": [
      "emcee: Exception while calling your likelihood function:\n",
      "  params: [35.64672658 36.00672652  1.70759807  0.23166865  1.53801491  4.55824612\n",
      "  0.49123542  5.2996397 ]\n",
      "  args: []\n",
      "  kwargs: {}\n",
      "  exception:\n"
     ]
    },
    {
     "name": "stderr",
     "output_type": "stream",
     "text": [
      "\n",
      "\n",
      "KeyboardInterrupt\n",
      "\n"
     ]
    }
   ],
   "source": [
    "path = '/Users/aidan/Desktop/sl_project/production/'\n",
    "\n",
    "fwhm_r = 0.95\n",
    "fwhm_g = 1.11\n",
    "\n",
    "std_psf_r = fwhm2sigma(fwhm_r)\n",
    "std_psf_g = fwhm2sigma(fwhm_g)\n",
    "\n",
    "def add_results_onto_columns(sample_arr, l16, l50, l84):\n",
    "    \n",
    "    l16.append(np.percentile(sample_arr, 16))\n",
    "    l50.append(np.percentile(sample_arr, 50))\n",
    "    l84.append(np.percentile(sample_arr, 84))\n",
    "    \n",
    "    return l16, l50, l84\n",
    "\n",
    "desids = []\n",
    "photozs = []\n",
    "\n",
    "pa16 = []\n",
    "pa50 = []\n",
    "pa84 = []\n",
    "e16 = []\n",
    "e50 = []\n",
    "e84 = []\n",
    "rr16 = []\n",
    "rr50 = []\n",
    "rr84 = []\n",
    "nr16 = []\n",
    "nr50 = []\n",
    "nr84 = []\n",
    "rg16 = []\n",
    "rg50 = []\n",
    "rg84 = []\n",
    "ng16 = []\n",
    "ng50 = []\n",
    "ng84 = []\n",
    "\n",
    "rmag16 = []\n",
    "rmag50 = []\n",
    "rmag84 = []\n",
    "gmag16 = []\n",
    "gmag50 = []\n",
    "gmag84 = []\n",
    "gr16 = []\n",
    "gr50 = []\n",
    "gr84 = []\n",
    "\n",
    "# START\n",
    "# --------------\n",
    "\n",
    "for ind in np.arange(2):\n",
    "\n",
    "    img_r = hdulist_r[0].data\n",
    "    img_g = hdulist_g[0].data\n",
    "\n",
    "    # find coordinate-based galaxy name and photometric redshift, append to respective lists\n",
    "\n",
    "    desid = hdulist_r[0].header['cand']\n",
    "    photoz = hdulist_r[0].header['gphoto_z']\n",
    "    \n",
    "    print('---------------------------------\\n\\nNow modeling galaxy {}\\n\\n---------------------------------'.format(desid))\n",
    "\n",
    "    desids.append(desid)\n",
    "    photozs.append(photoz)\n",
    "\n",
    "    # run model\n",
    "\n",
    "    photo = LensPhoto(img_r = img_r, img_g = img_g\n",
    "                      , std_psf_r = std_psf_r, std_psf_g = std_psf_g\n",
    "                      , desid = desid\n",
    "                     )\n",
    "\n",
    "    run, dist = photo.mcmc_run()\n",
    "    samples = photo.dist.reshape(-1, photo.ndim)\n",
    "\n",
    "    rmag_arr, gmag_arr = photo.mag_arrays()\n",
    "\n",
    "    pa16, pa50, pa84 = add_results_onto_columns(samples[:,2], pa16, pa50, pa84)\n",
    "    e16, e50, e84 = add_results_onto_columns(samples[:,3], e16, e50, e84)\n",
    "    nr16, nr50, nr84 = add_results_onto_columns(samples[:,4], nr16, nr50, nr84)\n",
    "    rr16, rr50, rr84 = add_results_onto_columns(samples[:,5], rr16, rr50, rr84)\n",
    "    ng16, ng50, ng84 = add_results_onto_columns(samples[:,6], ng16, ng50, ng84)\n",
    "    rg16, rg50, rg84 = add_results_onto_columns(samples[:,7], rg16, rg50, rg84)\n",
    "\n",
    "    rmag16, rmag50, rmag84 = add_results_onto_columns(photo.rmag_arr, rmag16, rmag50, rmag84)\n",
    "    gmag16, gmag50, gmag84 = add_results_onto_columns(photo.gmag_arr, gmag16, gmag50, gmag84)\n",
    "    gr16, gr50, gr84 = add_results_onto_columns(photo.gr_arr, gr16, gr50, gr84)\n",
    "\n",
    "# -------------\n",
    "\n",
    "data = {'cand_name': desids,\n",
    "        'photo_z': photozs,\n",
    "        'rmag_16': rmag16,               # 1\n",
    "        'rmag_50': rmag50,\n",
    "        'rmag_84': rmag84,\n",
    "        'gmag_16': gmag16,               # 2\n",
    "        'gmag_50': gmag50,\n",
    "        'gmag_84': gmag84,\n",
    "        'gr_16': gr16,               # 3\n",
    "        'gr_50': gr50,\n",
    "        'gr_84': gr84,\n",
    "        'halflightrad_r_16': rr16,               # 4\n",
    "        'halflightrad_r_50': rr50,\n",
    "        'halflightrad_r_84': rr84,\n",
    "        'sersicindex_r_16': nr16,               # 5\n",
    "        'sersicindex_r_50': nr50,\n",
    "        'sersicindex_r_84': nr84,\n",
    "        'halflightrad_g_16': rg16,               # 6\n",
    "        'halflightrad_g_50': rg50,\n",
    "        'halflightrad_g_84': rg84,\n",
    "        'sersicindex_g_16': ng16,               # 7\n",
    "        'sersicindex_g_50': ng50,\n",
    "        'sersicindex_g_84': ng84,\n",
    "        'ellipticity_16': e16,               # 8\n",
    "        'ellipticity_50': e50,\n",
    "        'ellipticity_84': e84,\n",
    "        'positionangle_16': pa16,\n",
    "        'positionangle_50': pa50,\n",
    "        'positionangle_84': pa84\n",
    "       }\n",
    "\n",
    "results = pd.DataFrame(data)\n"
   ]
  },
  {
   "cell_type": "code",
   "execution_count": 8,
   "metadata": {},
   "outputs": [],
   "source": [
    "path = '/Users/aidan/Desktop/sl_project/production/'\n",
    "\n",
    "filename = 'lens_results.csv'\n",
    "\n",
    "results.to_csv(path + filename)"
   ]
  },
  {
   "cell_type": "code",
   "execution_count": 10,
   "metadata": {},
   "outputs": [],
   "source": [
    "from photutils.segmentation import SourceFinder"
   ]
  },
  {
   "cell_type": "code",
   "execution_count": 33,
   "metadata": {},
   "outputs": [
    {
     "name": "stderr",
     "output_type": "stream",
     "text": [
      "WARNING: AstropyDeprecationWarning: \"kernel\" was deprecated in version 1.5 and will be removed in a future version. Instead, if filtering is desired, please input a convolved image directly into the \"data\" parameter. [warnings]\n"
     ]
    },
    {
     "data": {
      "application/vnd.jupyter.widget-view+json": {
       "model_id": "ab2891ef88a347ad8d577f83b015368f",
       "version_major": 2,
       "version_minor": 0
      },
      "text/plain": [
       "  0%|          | 0/7 [00:00<?, ?it/s]"
      ]
     },
     "metadata": {},
     "output_type": "display_data"
    },
    {
     "name": "stderr",
     "output_type": "stream",
     "text": [
      "WARNING: AstropyDeprecationWarning: \"kernel\" was deprecated in version 1.5 and will be removed in a future version. Instead, if filtering is desired, please input a convolved image directly into the \"data\" parameter. [warnings]\n"
     ]
    },
    {
     "data": {
      "application/vnd.jupyter.widget-view+json": {
       "model_id": "8040d7d28ea2431e9dcba75683fa6ac5",
       "version_major": 2,
       "version_minor": 0
      },
      "text/plain": [
       "  0%|          | 0/5 [00:00<?, ?it/s]"
      ]
     },
     "metadata": {},
     "output_type": "display_data"
    },
    {
     "name": "stdout",
     "output_type": "stream",
     "text": [
      "[ 1  2  3  4  5  6  7  8  9 10 11 12 13 14 15 16 17 18 19 20 21 22 36 37\n",
      " 38 39]\n",
      "[ 1  2  3  4  5  6  7  8  9 10 11 12 13 14 15 16 18 19 20 21 22 36 37 38\n",
      " 39]\n"
     ]
    }
   ],
   "source": [
    "# construct a background image w/ background noise\n",
    "bkg_r = Background2D(img_r, box_size=10).background\n",
    "bkg_g = Background2D(img_g, box_size=10).background\n",
    "\n",
    "# calculate RMS of each pixel, used to calculate threshold for source identification\n",
    "sigma_clip = SigmaClip(sigma=3.0, maxiters=10)\n",
    "bkgrms = StdBackgroundRMS(sigma_clip)\n",
    "bkgrms_r = bkgrms(img_r) \n",
    "bkgrms_g = bkgrms(img_g)\n",
    "\n",
    "# map of thresholds over which sources are detected\n",
    "threshold_r = bkg_r + (0.5 * bkgrms_r)\n",
    "threshold_g = bkg_g + (0.5 * bkgrms_g)\n",
    "\n",
    "# source detection\n",
    "sigma = 3.0 * gaussian_fwhm_to_sigma  # FWHM = 3.\n",
    "kernel = Gaussian2DKernel(sigma, x_size=3, y_size=3).normalize()\n",
    "segm_r = detect_sources(img_r, threshold, 25, kernel)\n",
    "    \n",
    "# deblending sources, looking for saddles between peaks in flux\n",
    "segm_r = deblend_sources(img_r, segm_r, npixels=5,\n",
    "                         nlevels=32, contrast=0.001)\n",
    "        \n",
    "# source detection\n",
    "segm_g = detect_sources(img_g, threshold, 25, kernel)\n",
    "    \n",
    "# deblending sources, looking for saddles between peaks in flux\n",
    "segm_g = deblend_sources(img_g, segm_g, npixels=5,\n",
    "                         nlevels=32, contrast=0.001)\n",
    "        \n",
    "comb_segm_data = segm_r.data + segm_g.data\n",
    "\n",
    "comb_segm = SegmentationImage(comb_segm_data)\n",
    "print(comb_segm.labels)\n",
    "\n",
    "label = comb_segm.data[(comb_segm.data.shape[0]//2, comb_segm.data.shape[1]//2)]\n",
    "label_loc = np.argwhere(comb_segm.labels == label)[0] - 1\n",
    "other_inds = np.delete(comb_segm.labels, label_loc)\n",
    "\n",
    "source = (comb_segm.data == label)\n",
    "    \n",
    "# get pixels from all other sources\n",
    "deblend_copy = comb_segm.copy()\n",
    "print(other_inds)\n",
    "deblend_copy.keep_labels(other_inds)\n",
    "        \n",
    "segm_dilated_arr = maximum_filter(deblend_copy.data, 3)\n",
    "segm_dilated_arr[deblend_copy.data != 0] = deblend_copy.data[deblend_copy.data != 0]\n",
    "        \n",
    "# label central source, which is the lens/galaxy\n",
    "segm_dilated_arr[source] = 10000\n",
    "    \n",
    "segm_dilated = SegmentationImage(segm_dilated_arr)\n",
    "    \n",
    "other_inds = np.delete(segm_dilated.labels, -1)\n",
    "\n",
    "# get pixels from all other sources\n",
    "segm_dilated.keep_labels(other_inds)\n",
    "        \n",
    "mask = (segm_dilated.data > 0)\n",
    "\n",
    "test = img_r.copy()\n",
    "\n",
    "test[mask] = 0\n",
    "\n",
    "# incorporate r-band into the masking somehow\n",
    "# it seems like the best way to go about things will be to copy the detect + deblend, as opposed to\n",
    "# simplifying\n",
    "    "
   ]
  },
  {
   "cell_type": "code",
   "execution_count": 39,
   "metadata": {},
   "outputs": [
    {
     "data": {
      "text/plain": [
       "<matplotlib.image.AxesImage at 0x7ff50a025990>"
      ]
     },
     "execution_count": 39,
     "metadata": {},
     "output_type": "execute_result"
    },
    {
     "data": {
      "image/png": "[encoded data removed]",
      "text/plain": [
       "<Figure size 1200x800 with 1 Axes>"
      ]
     },
     "metadata": {
      "needs_background": "light"
     },
     "output_type": "display_data"
    }
   ],
   "source": [
    "plt.imshow(test,vmin=-10, vmax=10)"
   ]
  },
  {
   "cell_type": "code",
   "execution_count": null,
   "metadata": {},
   "outputs": [],
   "source": []
  }
 ],
 "metadata": {
  "kernelspec": {
   "display_name": "gal-gal-sel [conda env:gal-gal-sel]",
   "language": "python",
   "name": "conda-env-gal-gal-sel-py"
  },
  "language_info": {
   "codemirror_mode": {
    "name": "ipython",
    "version": 3
   },
   "file_extension": ".py",
   "mimetype": "text/x-python",
   "name": "python",
   "nbconvert_exporter": "python",
   "pygments_lexer": "ipython3",
   "version": "3.10.4"
  }
 },
 "nbformat": 4,
 "nbformat_minor": 4
}
