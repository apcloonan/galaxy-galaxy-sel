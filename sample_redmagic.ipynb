{
 "cells": [
  {
   "cell_type": "markdown",
   "metadata": {},
   "source": [
    "### sample_redmagic\n",
    "\n",
    "Drawing a population of redmagic galaxies which matches the distribution of lens candidates in $R_{{\\rm eff},r}-z_{\\rm{phot}}$ space."
   ]
  },
  {
   "cell_type": "code",
   "execution_count": 1,
   "metadata": {},
   "outputs": [
    {
     "name": "stdout",
     "output_type": "stream",
     "text": [
      "3.10.4 (main, Mar 31 2022, 03:38:35) [Clang 12.0.0 ]\n"
     ]
    },
    {
     "name": "stderr",
     "output_type": "stream",
     "text": [
      "/Users/aidan/opt/anaconda3/envs/gal-gal-sel/lib/python3.10/site-packages/scipy/__init__.py:146: UserWarning: A NumPy version >=1.16.5 and <1.23.0 is required for this version of SciPy (detected version 1.23.1\n",
      "  warnings.warn(f\"A NumPy version >={np_minversion} and <{np_maxversion}\"\n"
     ]
    }
   ],
   "source": [
    "# math, array manipulation, etc.\n",
    "import numpy as np\n",
    "\n",
    "import os\n",
    "import sys\n",
    "print(sys.version)\n",
    "\n",
    "# timing\n",
    "from timeit import default_timer\n",
    "from tqdm import tqdm\n",
    "\n",
    "import pandas as pd\n",
    "\n",
    "import astropy.io.fits as fits\n",
    "from astropy.table import Table                    # Table data structure\n",
    "\n",
    "# plots\n",
    "import matplotlib.pyplot as plt\n",
    "from matplotlib.colors import LogNorm\n",
    "import seaborn as sns"
   ]
  },
  {
   "cell_type": "code",
   "execution_count": 2,
   "metadata": {},
   "outputs": [],
   "source": [
    "sys.path.append('/Users/aidan/Desktop/sl_project/galaxy-galaxy-sel/')\n",
    "\n",
    "from aidan_utils import plot_prettier\n",
    "\n",
    "# only need to run once\n",
    "plot_prettier()\n"
   ]
  },
  {
   "cell_type": "code",
   "execution_count": 3,
   "metadata": {},
   "outputs": [
    {
     "name": "stdout",
     "output_type": "stream",
     "text": [
      "0.890972931320835\n",
      "0.9331833098991992\n",
      "0.9635123986559208\n",
      "68\n"
     ]
    }
   ],
   "source": [
    "path = '/Users/aidan/Desktop/sl_project/production/'\n",
    "results_filename = path + 'lens_results.csv'\n",
    "\n",
    "results = pd.read_csv(results_filename)\n",
    "\n",
    "photo_z = results['photo_z']\n",
    "reff_r = results['halflightrad_r_50']\n",
    "\n",
    "max_ind = np.argmax(reff_r)\n",
    "#reff_r = np.delete(np.array(reff_r), max_ind)\n",
    "#photo_z = np.delete(np.array(photo_z), max_ind)\n",
    "\n",
    "print(results['sersicindex_r_16'][max_ind])\n",
    "print(results['sersicindex_r_50'][max_ind])\n",
    "print(results['sersicindex_r_84'][max_ind])\n",
    "\n",
    "print(max_ind)\n"
   ]
  },
  {
   "cell_type": "code",
   "execution_count": 4,
   "metadata": {},
   "outputs": [
    {
     "data": {
      "text/plain": [
       "Text(0, 0.5, '$R_{{\\\\rm eff}, r}$')"
      ]
     },
     "execution_count": 4,
     "metadata": {},
     "output_type": "execute_result"
    },
    {
     "data": {
      "image/png": "[encoded data removed]",
      "text/plain": [
       "<Figure size 800x600 with 2 Axes>"
      ]
     },
     "metadata": {
      "needs_background": "light"
     },
     "output_type": "display_data"
    }
   ],
   "source": [
    "\n",
    "fig, ax = plt.subplots(1,1, figsize=(4,3))\n",
    "\n",
    "test = sns.kdeplot(x=photo_z, y=reff_r, ax=ax\n",
    "                   , cmap=\"Purples_d\",cbar=True, shade=True\n",
    "                   , levels=15\n",
    "                  )\n",
    "#test = ax.scatter(photo_z, reff_r)\n",
    "ax.set_xlabel(r'$z_{\\rm phot}$', fontsize=14)\n",
    "ax.set_ylabel(r'$R_{{\\rm eff}, r}$', fontsize=14)\n",
    "#ax.set_ylim(0,15)\n"
   ]
  },
  {
   "cell_type": "code",
   "execution_count": null,
   "metadata": {},
   "outputs": [],
   "source": []
  },
  {
   "cell_type": "code",
   "execution_count": 5,
   "metadata": {},
   "outputs": [],
   "source": [
    "# let's test with scikit-learn kernel density estimation\n",
    "from sklearn.neighbors import KernelDensity\n",
    "\n",
    "data = np.array([photo_z, reff_r]).T\n",
    "kde = KernelDensity().fit(data)\n",
    "\n",
    "# Create a meshgrid, which has cells whose values are the (x,y) location at each cell\n",
    "z = np.linspace(0, 3, 100)\n",
    "rr = np.linspace(0, 30, 100)\n",
    "zs, rrs = np.meshgrid(z, rr)\n",
    "\n",
    "# Pair the x locations with y locations\n",
    "#zrrs = np.vstack((zs.ravel(), rrs.ravel())).T"
   ]
  },
  {
   "cell_type": "code",
   "execution_count": 25,
   "metadata": {},
   "outputs": [],
   "source": [
    "# if I have an array of z_phot and R_eff,r values from redmagic, then I can use the evaluation below\n",
    "\n",
    "# evaluate\n",
    "f = np.exp(kde.score_samples(zrrs))"
   ]
  },
  {
   "cell_type": "code",
   "execution_count": 24,
   "metadata": {},
   "outputs": [
    {
     "data": {
      "text/plain": [
       "(array([  45.,   55.,   13.,   87.,    0.,   29.,   71.,    5.,   52.,\n",
       "          43.,   23.,   77.,    3.,   49.,   48.,   24.,   76.,    7.,\n",
       "          54.,   39.,   32.,   68.,   15.,   85.,    4.,   48.,   48.,\n",
       "          33.,   67.,   21.,   79.,   12.,   88.,    6.,   52.,   43.,\n",
       "          45.,   54.,   39.,   61.,   35.,   65.,   33.,   67.,   34.,\n",
       "          66.,   36.,   64.,   41.,   61.,   47.,   58.,   57.,   50.,\n",
       "          86.,   24.,   76.,   37.,   69.,   55.,   58.,   81.,   38.,\n",
       "          73.,   89.,   30.,   78.,   59.,   63.,   81.,   89.,   38.,\n",
       "          81.,   88.,   54.,   77.,   86.,   91.,   93.,   59.,   82.,\n",
       "          92.,   96.,   97.,  100.,  102.,  105.,  112.,  120.,  148.,\n",
       "         117.,  131.,  169.,  150.,  189.,  217.,  304.,  652., 1212.,\n",
       "        1638.]),\n",
       " array([-251.97899536, -249.48071219, -246.98242903, -244.48414587,\n",
       "        -241.98586271, -239.48757955, -236.98929639, -234.49101322,\n",
       "        -231.99273006, -229.4944469 , -226.99616374, -224.49788058,\n",
       "        -221.99959742, -219.50131426, -217.00303109, -214.50474793,\n",
       "        -212.00646477, -209.50818161, -207.00989845, -204.51161529,\n",
       "        -202.01333212, -199.51504896, -197.0167658 , -194.51848264,\n",
       "        -192.02019948, -189.52191632, -187.02363316, -184.52534999,\n",
       "        -182.02706683, -179.52878367, -177.03050051, -174.53221735,\n",
       "        -172.03393419, -169.53565102, -167.03736786, -164.5390847 ,\n",
       "        -162.04080154, -159.54251838, -157.04423522, -154.54595206,\n",
       "        -152.04766889, -149.54938573, -147.05110257, -144.55281941,\n",
       "        -142.05453625, -139.55625309, -137.05796992, -134.55968676,\n",
       "        -132.0614036 , -129.56312044, -127.06483728, -124.56655412,\n",
       "        -122.06827096, -119.56998779, -117.07170463, -114.57342147,\n",
       "        -112.07513831, -109.57685515, -107.07857199, -104.58028882,\n",
       "        -102.08200566,  -99.5837225 ,  -97.08543934,  -94.58715618,\n",
       "         -92.08887302,  -89.59058986,  -87.09230669,  -84.59402353,\n",
       "         -82.09574037,  -79.59745721,  -77.09917405,  -74.60089089,\n",
       "         -72.10260773,  -69.60432456,  -67.1060414 ,  -64.60775824,\n",
       "         -62.10947508,  -59.61119192,  -57.11290876,  -54.61462559,\n",
       "         -52.11634243,  -49.61805927,  -47.11977611,  -44.62149295,\n",
       "         -42.12320979,  -39.62492663,  -37.12664346,  -34.6283603 ,\n",
       "         -32.13007714,  -29.63179398,  -27.13351082,  -24.63522766,\n",
       "         -22.13694449,  -19.63866133,  -17.14037817,  -14.64209501,\n",
       "         -12.14381185,   -9.64552869,   -7.14724553,   -4.64896236,\n",
       "          -2.1506792 ]),\n",
       " <BarContainer object of 100 artists>)"
      ]
     },
     "execution_count": 24,
     "metadata": {},
     "output_type": "execute_result"
    },
    {
     "data": {
      "image/png": "[encoded data removed]",
      "text/plain": [
       "<Figure size 1200x800 with 1 Axes>"
      ]
     },
     "metadata": {
      "needs_background": "light"
     },
     "output_type": "display_data"
    }
   ],
   "source": [
    "#pdf = kde.sample(10000)[]\n",
    "plt.hist(f, bins=100)"
   ]
  },
  {
   "cell_type": "code",
   "execution_count": null,
   "metadata": {},
   "outputs": [],
   "source": []
  }
 ],
 "metadata": {
  "kernelspec": {
   "display_name": "gal-gal-sel [conda env:gal-gal-sel]",
   "language": "python",
   "name": "conda-env-gal-gal-sel-py"
  },
  "language_info": {
   "codemirror_mode": {
    "name": "ipython",
    "version": 3
   },
   "file_extension": ".py",
   "mimetype": "text/x-python",
   "name": "python",
   "nbconvert_exporter": "python",
   "pygments_lexer": "ipython3",
   "version": "3.10.4"
  }
 },
 "nbformat": 4,
 "nbformat_minor": 4
}
